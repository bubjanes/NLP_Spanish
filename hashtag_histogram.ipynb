{
 "cells": [
  {
   "cell_type": "code",
   "execution_count": 2,
   "metadata": {},
   "outputs": [],
   "source": [
    "import re\n",
    "import pandas as pd\n",
    "import nltk"
   ]
  },
  {
   "cell_type": "code",
   "execution_count": 3,
   "metadata": {},
   "outputs": [],
   "source": [
    "#read dataset from csv\n",
    "df = pd.read_csv('new_mattermost.csv')"
   ]
  },
  {
   "cell_type": "code",
   "execution_count": 4,
   "metadata": {},
   "outputs": [],
   "source": [
    "hashtags = df.Hashtags.dropna()"
   ]
  },
  {
   "cell_type": "code",
   "execution_count": 5,
   "metadata": {},
   "outputs": [
    {
     "name": "stdout",
     "output_type": "stream",
     "text": [
      "80 different hashtags were used\n",
      "#consulta_campaña\n",
      "#consulta_flebologia\n",
      "#turno_flebologia\n",
      "#dr_lamoratta\n",
      "#turno_cancela\n",
      "#dr_elorza\n",
      "#dr_falcon\n",
      "#turno_confirma\n",
      "#turno_facebook\n",
      "#no_confirma\n",
      "#turno_reprogramado\n",
      "#turno\n",
      "#dra_vazquez\n",
      "#lic_vazquez\n",
      "#turno_no_confirma\n",
      "#pendiente_respuesta\n",
      "#consulta_dermatologia\n",
      "#no_brida_datos\n",
      "#encuesta\n",
      "#tratamiento_esclero\n",
      "#turno_estetica\n",
      "#turno_pendiente_responder\n",
      "#turno_cancelatarde\n",
      "#dr_morales\n",
      "#turno_clinica\n",
      "#turno_nutricionista\n",
      "#turno_dermatologia\n",
      "#dra_formi\n",
      "#consulta_estetica\n",
      "#dra_form\n",
      "#confirmacion_turno\n",
      "#consulta_otraespecialidad\n",
      "#no_contesta\n",
      "#hola\n",
      "#consulta_turno\n",
      "#no_puede_por_horario\n",
      "#consulta_nutricionista\n",
      "#tratamiento_estetico\n",
      "#dr_porchietto\n",
      "#dr_pozzi\n",
      "#turno_doppler\n",
      "#dra_elorza\n",
      "#dra_forni\n",
      "#no_puede_abonar\n",
      "#pordistancia\n",
      "#dra_pozzi\n",
      "#dr_vazquez\n",
      "#turno_confirmado\n",
      "#consulta_Turno\n",
      "#Turno\n",
      "#turno_controltratamiento\n",
      "#lic_porchietto\n",
      "#consulta_derivada\n",
      "#turno_microcirugia\n",
      "#no_informacion_adara\n",
      "#dr_forni\n",
      "#turno_hemorroidal\n",
      "#envio_documentacion\n",
      "#consulta_siniestro\n",
      "#gestion_mercadopago\n",
      "#gestion_renovacion\n",
      "#gestion_recupero\n",
      "#consulta_poliza\n",
      "#consulta_mercadopago\n",
      "#consulta_grua\n",
      "#consulta_cotizacion_auto\n",
      "#gestion_seguro_nvo\n",
      "#gestion_documentacion\n",
      "#recupero\n",
      "#poliza\n",
      "#cobro\n",
      "#renovacion\n",
      "#gestion_endoso\n",
      "#consulta_cotizacion_AP\n",
      "#gestion_seguronuevo\n",
      "#consulta_sucursales\n",
      "#emi_video_app\n",
      "#consulta_emi\n",
      "#consulta_cobro\n",
      "#consulta_cobranza\n"
     ]
    }
   ],
   "source": [
    "topics = hashtags.unique()\n",
    "count = 0\n",
    "print(len(topics),'different hashtags were used')    \n",
    "for i in topics:\n",
    "    print(i)"
   ]
  },
  {
   "cell_type": "markdown",
   "metadata": {},
   "source": [
    "## Make a counter to find the most common occurring hashtag"
   ]
  },
  {
   "cell_type": "code",
   "execution_count": 6,
   "metadata": {},
   "outputs": [
    {
     "data": {
      "text/plain": [
       "{'#Turno': 1,\n",
       " '#cobro': 1,\n",
       " '#confirmacion_turno': 4,\n",
       " '#consulta_Turno': 1,\n",
       " '#consulta_campaña': 109,\n",
       " '#consulta_cobranza': 1,\n",
       " '#consulta_cobro': 1,\n",
       " '#consulta_cotizacion_AP': 1,\n",
       " '#consulta_cotizacion_auto': 17,\n",
       " '#consulta_derivada': 3,\n",
       " '#consulta_dermatologia': 14,\n",
       " '#consulta_emi': 1,\n",
       " '#consulta_estetica': 2,\n",
       " '#consulta_flebologia': 65,\n",
       " '#consulta_grua': 5,\n",
       " '#consulta_mercadopago': 1,\n",
       " '#consulta_nutricionista': 3,\n",
       " '#consulta_otraespecialidad': 1,\n",
       " '#consulta_poliza': 20,\n",
       " '#consulta_siniestro': 12,\n",
       " '#consulta_sucursales': 4,\n",
       " '#consulta_turno': 1,\n",
       " '#dr_elorza': 10,\n",
       " '#dr_falcon': 41,\n",
       " '#dr_forni': 2,\n",
       " '#dr_lamoratta': 71,\n",
       " '#dr_morales': 37,\n",
       " '#dr_porchietto': 1,\n",
       " '#dr_pozzi': 2,\n",
       " '#dr_vazquez': 1,\n",
       " '#dra_elorza': 6,\n",
       " '#dra_form': 1,\n",
       " '#dra_formi': 6,\n",
       " '#dra_forni': 1,\n",
       " '#dra_pozzi': 1,\n",
       " '#dra_vazquez': 2,\n",
       " '#emi_video_app': 1,\n",
       " '#encuesta': 33,\n",
       " '#envio_documentacion': 25,\n",
       " '#gestion_documentacion': 1,\n",
       " '#gestion_endoso': 2,\n",
       " '#gestion_mercadopago': 41,\n",
       " '#gestion_recupero': 7,\n",
       " '#gestion_renovacion': 25,\n",
       " '#gestion_seguro_nvo': 8,\n",
       " '#gestion_seguronuevo': 1,\n",
       " '#hola': 2,\n",
       " '#lic_porchietto': 2,\n",
       " '#lic_vazquez': 3,\n",
       " '#no_brida_datos': 2,\n",
       " '#no_confirma': 33,\n",
       " '#no_contesta': 2,\n",
       " '#no_informacion_adara': 1,\n",
       " '#no_puede_abonar': 1,\n",
       " '#no_puede_por_horario': 2,\n",
       " '#pendiente_respuesta': 80,\n",
       " '#poliza': 3,\n",
       " '#pordistancia': 1,\n",
       " '#recupero': 1,\n",
       " '#renovacion': 1,\n",
       " '#tratamiento_esclero': 10,\n",
       " '#tratamiento_estetico': 1,\n",
       " '#turno': 12,\n",
       " '#turno_cancela': 26,\n",
       " '#turno_cancelatarde': 3,\n",
       " '#turno_clinica': 1,\n",
       " '#turno_confirma': 235,\n",
       " '#turno_confirmado': 2,\n",
       " '#turno_controltratamiento': 1,\n",
       " '#turno_dermatologia': 9,\n",
       " '#turno_doppler': 1,\n",
       " '#turno_estetica': 5,\n",
       " '#turno_facebook': 4,\n",
       " '#turno_flebologia': 128,\n",
       " '#turno_hemorroidal': 1,\n",
       " '#turno_microcirugia': 1,\n",
       " '#turno_no_confirma': 8,\n",
       " '#turno_nutricionista': 3,\n",
       " '#turno_pendiente_responder': 1,\n",
       " '#turno_reprogramado': 46}"
      ]
     },
     "execution_count": 6,
     "metadata": {},
     "output_type": "execute_result"
    }
   ],
   "source": [
    "counts=dict()\n",
    "for line in hashtags:\n",
    "    counts[line]=counts.get(line,0)+1\n",
    "    \n",
    "counts"
   ]
  },
  {
   "cell_type": "markdown",
   "metadata": {},
   "source": [
    "## There's two ways to do this:"
   ]
  },
  {
   "cell_type": "code",
   "execution_count": 7,
   "metadata": {},
   "outputs": [
    {
     "name": "stdout",
     "output_type": "stream",
     "text": [
      "The most common hastag used was: #turno_confirma used 235 times\n"
     ]
    }
   ],
   "source": [
    "# the for loop way\n",
    "bigcount=None\n",
    "bigword=None\n",
    "for word,count in counts.items():\n",
    "    if bigcount is None or count>bigcount:\n",
    "        bigword=word\n",
    "        bigcount=count\n",
    "print(\"The most common hastag used was:\",bigword,\"used\",bigcount,\"times\")"
   ]
  },
  {
   "cell_type": "code",
   "execution_count": 8,
   "metadata": {},
   "outputs": [
    {
     "name": "stdout",
     "output_type": "stream",
     "text": [
      "MOST COMMON HASHTAGS: [('#turno_confirma', 235), ('#turno_flebologia', 128), ('#consulta_campaña', 109), ('#pendiente_respuesta', 80), ('#dr_lamoratta', 71), ('#consulta_flebologia', 65), ('#turno_reprogramado', 46), ('#dr_falcon', 41), ('#gestion_mercadopago', 41), ('#dr_morales', 37), ('#encuesta', 33), ('#no_confirma', 33), ('#turno_cancela', 26), ('#gestion_renovacion', 25), ('#envio_documentacion', 25)]\n"
     ]
    }
   ],
   "source": [
    "# ...and the one-liner\n",
    "all_hash = nltk.FreqDist(hashtags)\n",
    "print(\"MOST COMMON HASHTAGS:\", all_hash.most_common(15))"
   ]
  },
  {
   "cell_type": "code",
   "execution_count": 15,
   "metadata": {},
   "outputs": [
    {
     "name": "stdout",
     "output_type": "stream",
     "text": [
      "[235, 128, 109, 80, 71, 65, 46, 41, 41, 37]\n"
     ]
    }
   ],
   "source": [
    "x = all_hash.most_common(10)\n",
    "mydict = {}\n",
    "has = []\n",
    "numb = []\n",
    "for key, val in x:\n",
    "    has.append(key)\n",
    "    numb.append(val)\n",
    "print(numb)\n"
   ]
  },
  {
   "cell_type": "code",
   "execution_count": 16,
   "metadata": {},
   "outputs": [
    {
     "data": {
      "text/plain": [
       "(10, 2)"
      ]
     },
     "execution_count": 16,
     "metadata": {},
     "output_type": "execute_result"
    }
   ],
   "source": [
    "df = pd.DataFrame({'hashtag' : has, \n",
    "                  'count' : numb})\n",
    "df.shape"
   ]
  },
  {
   "cell_type": "code",
   "execution_count": 17,
   "metadata": {},
   "outputs": [],
   "source": [
    "df.to_csv('hashtag_ten.csv')"
   ]
  },
  {
   "cell_type": "code",
   "execution_count": null,
   "metadata": {},
   "outputs": [],
   "source": []
  }
 ],
 "metadata": {
  "kernelspec": {
   "display_name": "Python 3",
   "language": "python",
   "name": "python3"
  },
  "language_info": {
   "codemirror_mode": {
    "name": "ipython",
    "version": 3
   },
   "file_extension": ".py",
   "mimetype": "text/x-python",
   "name": "python",
   "nbconvert_exporter": "python",
   "pygments_lexer": "ipython3",
   "version": "3.5.6"
  }
 },
 "nbformat": 4,
 "nbformat_minor": 2
}
