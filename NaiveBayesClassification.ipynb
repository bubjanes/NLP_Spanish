{
 "cells": [
  {
   "cell_type": "markdown",
   "metadata": {},
   "source": [
    "# Naive Bayes Classification"
   ]
  },
  {
   "cell_type": "markdown",
   "metadata": {},
   "source": [
    "### This notebook tests two word vectorization techniques, Count and TF-IDF, and three variations of the Naive Bayes Classification algorithm: Multinomial, Gaussian and Bernoulli Baive Bayes. We used a dataset of What'sApp messages from customers of an auto insurance company in Latin America. The messages were classified by two criteria, consulations (*consulta*) and complaints (*reclamos*)."
   ]
  },
  {
   "cell_type": "code",
   "execution_count": 1,
   "metadata": {},
   "outputs": [],
   "source": [
    "import pandas as pd\n",
    "import numpy as np\n",
    "import nltk\n",
    "from sklearn.feature_extraction.text import CountVectorizer\n",
    "from sklearn.feature_extraction.text import TfidfVectorizer\n",
    "from sklearn.model_selection import train_test_split\n",
    "from sklearn.naive_bayes import MultinomialNB, GaussianNB, BernoulliNB\n",
    "from nltk.corpus import stopwords"
   ]
  },
  {
   "cell_type": "code",
   "execution_count": 2,
   "metadata": {
    "scrolled": false
   },
   "outputs": [],
   "source": [
    "#nltk.download('stopwords')\n",
    "stop_words = stopwords.words(\"spanish\")"
   ]
  },
  {
   "cell_type": "code",
   "execution_count": 3,
   "metadata": {
    "scrolled": false
   },
   "outputs": [],
   "source": [
    "df = pd.read_csv('mattermost_etiquetado.csv')"
   ]
  },
  {
   "cell_type": "markdown",
   "metadata": {},
   "source": [
    "### Set up our test and train data sets"
   ]
  },
  {
   "cell_type": "code",
   "execution_count": 4,
   "metadata": {},
   "outputs": [],
   "source": [
    "# change class type to bianary\n",
    "df.loc[df[\"type\"]=='consulta',\"type\"]=0\n",
    "df.loc[df[\"type\"]=='reclamo',\"type\"]=1"
   ]
  },
  {
   "cell_type": "code",
   "execution_count": 5,
   "metadata": {},
   "outputs": [],
   "source": [
    "# Seperate messages and class into two dataframes\n",
    "df_x = df[\"text\"]\n",
    "df_y= df[\"type\"]"
   ]
  },
  {
   "cell_type": "code",
   "execution_count": 6,
   "metadata": {},
   "outputs": [],
   "source": [
    "#train-test-split the data (this is a commonly used line of code)\n",
    "x_train, x_test, y_train, y_test = train_test_split(df_x, df_y, test_size=0.2, random_state=4)"
   ]
  },
  {
   "cell_type": "code",
   "execution_count": 7,
   "metadata": {},
   "outputs": [],
   "source": [
    "#for TYPE we need our bianary values to be integers\n",
    "y_train=y_train.astype('int')"
   ]
  },
  {
   "cell_type": "markdown",
   "metadata": {},
   "source": [
    "# Vectorization: turn words into numbers"
   ]
  },
  {
   "cell_type": "markdown",
   "metadata": {},
   "source": [
    "### Which performs better? Count Vectorizer or TF-IDF Vectorizer?"
   ]
  },
  {
   "cell_type": "markdown",
   "metadata": {},
   "source": [
    "### Count Vectorizer"
   ]
  },
  {
   "cell_type": "code",
   "execution_count": 8,
   "metadata": {},
   "outputs": [],
   "source": [
    "cv = CountVectorizer()"
   ]
  },
  {
   "cell_type": "code",
   "execution_count": 9,
   "metadata": {},
   "outputs": [
    {
     "data": {
      "text/plain": [
       "(216, 611)"
      ]
     },
     "execution_count": 9,
     "metadata": {},
     "output_type": "execute_result"
    }
   ],
   "source": [
    "x_traincv=cv.fit_transform(x_train)\n",
    "#x_testcv =cv.fit_transform(x_test)\n",
    "x_traincv.shape"
   ]
  },
  {
   "cell_type": "code",
   "execution_count": 10,
   "metadata": {},
   "outputs": [
    {
     "data": {
      "text/plain": [
       "(216, 611)"
      ]
     },
     "execution_count": 10,
     "metadata": {},
     "output_type": "execute_result"
    }
   ],
   "source": [
    "# transform to an array\n",
    "train_arrai = x_traincv.toarray()\n",
    "#test_arrai  = x_testcv.toarray()\n",
    "train_arrai.shape"
   ]
  },
  {
   "cell_type": "code",
   "execution_count": 11,
   "metadata": {
    "scrolled": true
   },
   "outputs": [
    {
     "data": {
      "text/plain": [
       "['100',\n",
       " '11',\n",
       " '19',\n",
       " '1983',\n",
       " '2008',\n",
       " '2009',\n",
       " '2011',\n",
       " '351',\n",
       " '3515069733',\n",
       " '430000',\n",
       " '506973',\n",
       " '690',\n",
       " '790',\n",
       " '794',\n",
       " '80',\n",
       " '936',\n",
       " '97',\n",
       " 'ab235',\n",
       " 'abonaba',\n",
       " 'abonar',\n",
       " 'aca',\n",
       " 'accidente',\n",
       " 'acercar',\n",
       " 'actuó',\n",
       " 'acá',\n",
       " 'además',\n",
       " 'adherirse',\n",
       " 'agradezco',\n",
       " 'aguardo',\n",
       " 'ahi',\n",
       " 'ahora',\n",
       " 'al',\n",
       " 'alberto',\n",
       " 'algo',\n",
       " 'alguna',\n",
       " 'alta',\n",
       " 'andar',\n",
       " 'anterior',\n",
       " 'antes',\n",
       " 'anulada',\n",
       " 'aparece',\n",
       " 'apenas',\n",
       " 'aproximadamente',\n",
       " 'aqui',\n",
       " 'arriba',\n",
       " 'as',\n",
       " 'asegurado',\n",
       " 'asegurar',\n",
       " 'asesoro',\n",
       " 'asi',\n",
       " 'assistance',\n",
       " 'así',\n",
       " 'atención',\n",
       " 'atendian',\n",
       " 'atendieron',\n",
       " 'atras',\n",
       " 'atrás',\n",
       " 'atte',\n",
       " 'aumentan',\n",
       " 'auto',\n",
       " 'automovil',\n",
       " 'autos',\n",
       " 'averiguar',\n",
       " 'avise',\n",
       " 'aviso',\n",
       " 'ayer',\n",
       " 'bersion',\n",
       " 'bertuccelli_edo',\n",
       " 'bicicletas',\n",
       " 'bien',\n",
       " 'boleta',\n",
       " 'bonito',\n",
       " 'boton',\n",
       " 'breve',\n",
       " 'brindar',\n",
       " 'bs',\n",
       " 'bsas',\n",
       " 'buen',\n",
       " 'buena',\n",
       " 'buenas',\n",
       " 'buenisimo',\n",
       " 'bueno',\n",
       " 'buenos',\n",
       " 'bustos',\n",
       " 'cabrera',\n",
       " 'camioneta',\n",
       " 'cancelar',\n",
       " 'carol',\n",
       " 'casa',\n",
       " 'categoria',\n",
       " 'cba',\n",
       " 'cbu',\n",
       " 'celular',\n",
       " 'centro',\n",
       " 'cerca',\n",
       " 'chiquita',\n",
       " 'choco',\n",
       " 'chocó',\n",
       " 'cliente',\n",
       " 'clio',\n",
       " 'cobertura',\n",
       " 'coberturas',\n",
       " 'cobrar',\n",
       " 'colaboración',\n",
       " 'colonia',\n",
       " 'com',\n",
       " 'como',\n",
       " 'comparando',\n",
       " 'compañía',\n",
       " 'completo',\n",
       " 'comprobante',\n",
       " 'comunicar',\n",
       " 'con',\n",
       " 'conocer',\n",
       " 'consiste',\n",
       " 'consulta',\n",
       " 'consultar',\n",
       " 'consultarle',\n",
       " 'contactarnos',\n",
       " 'contestar',\n",
       " 'contestaron',\n",
       " 'conteste',\n",
       " 'contra',\n",
       " 'contratado',\n",
       " 'contratar',\n",
       " 'contratarlo',\n",
       " 'conté',\n",
       " 'conveniente',\n",
       " 'cordoba',\n",
       " 'correo',\n",
       " 'cosa',\n",
       " 'cosas',\n",
       " 'costara',\n",
       " 'cotisaron',\n",
       " 'cotizacion',\n",
       " 'cotización',\n",
       " 'cotizar',\n",
       " 'cotizaron',\n",
       " 'cotizas',\n",
       " 'credito',\n",
       " 'creo',\n",
       " 'cuadras',\n",
       " 'cual',\n",
       " 'cualquier',\n",
       " 'cuando',\n",
       " 'cuanto',\n",
       " 'cuarto',\n",
       " 'cuatrimestral',\n",
       " 'cubra',\n",
       " 'cubre',\n",
       " 'cuenta',\n",
       " 'cuentan',\n",
       " 'cuestiones',\n",
       " 'cuestión',\n",
       " 'cumplo',\n",
       " 'cuota',\n",
       " 'cupon',\n",
       " 'cupón',\n",
       " 'cuándo',\n",
       " 'cómo',\n",
       " 'dale',\n",
       " 'dan',\n",
       " 'dar',\n",
       " 'datos',\n",
       " 'day',\n",
       " 'de',\n",
       " 'deben',\n",
       " 'debo',\n",
       " 'decia',\n",
       " 'decime',\n",
       " 'decir',\n",
       " 'decís',\n",
       " 'deja',\n",
       " 'deje',\n",
       " 'del',\n",
       " 'demora',\n",
       " 'den',\n",
       " 'denuncia',\n",
       " 'desde',\n",
       " 'deseo',\n",
       " 'después',\n",
       " 'detallaba',\n",
       " 'dia',\n",
       " 'dias',\n",
       " 'dice',\n",
       " 'dicho',\n",
       " 'diego',\n",
       " 'dieron',\n",
       " 'dijeron',\n",
       " 'dirección',\n",
       " 'documentacion',\n",
       " 'documento',\n",
       " 'documentos',\n",
       " 'domingo',\n",
       " 'donde',\n",
       " 'dueño',\n",
       " 'débito',\n",
       " 'día',\n",
       " 'días',\n",
       " 'díganme',\n",
       " 'efectivamente',\n",
       " 'efectivo',\n",
       " 'eficientes',\n",
       " 'el',\n",
       " 'electrónico',\n",
       " 'en',\n",
       " 'encanta',\n",
       " 'encima',\n",
       " 'entero',\n",
       " 'entiendo',\n",
       " 'envarón',\n",
       " 'envia',\n",
       " 'envianos',\n",
       " 'enviar',\n",
       " 'enviarme',\n",
       " 'envio',\n",
       " 'envían',\n",
       " 'envíe',\n",
       " 'envíen',\n",
       " 'envío',\n",
       " 'equivocaron',\n",
       " 'es',\n",
       " 'esa',\n",
       " 'escribo',\n",
       " 'escudo',\n",
       " 'ese',\n",
       " 'eso',\n",
       " 'esperando',\n",
       " 'espero',\n",
       " 'esta',\n",
       " 'estaba',\n",
       " 'estamos',\n",
       " 'estanciera',\n",
       " 'estaría',\n",
       " 'estas',\n",
       " 'este',\n",
       " 'esto',\n",
       " 'estoy',\n",
       " 'está',\n",
       " 'etc',\n",
       " 'excelente',\n",
       " 'extraordinarios',\n",
       " 'f100',\n",
       " 'facil',\n",
       " 'falcon',\n",
       " 'falta',\n",
       " 'favor',\n",
       " 'fe',\n",
       " 'fierro',\n",
       " 'flete',\n",
       " 'fmk',\n",
       " 'ford',\n",
       " 'forma',\n",
       " 'foto',\n",
       " 'fotos',\n",
       " 'fritas',\n",
       " 'fui',\n",
       " 'genial',\n",
       " 'gnc',\n",
       " 'gol',\n",
       " 'graciaa',\n",
       " 'gracias',\n",
       " 'grupo',\n",
       " 'grúa',\n",
       " 'guardado',\n",
       " 'guiar',\n",
       " 'gusto',\n",
       " 'haber',\n",
       " 'habian',\n",
       " 'hablaba',\n",
       " 'hace',\n",
       " 'hacer',\n",
       " 'hacerle',\n",
       " 'hago',\n",
       " 'haran',\n",
       " 'hasta',\n",
       " 'hay',\n",
       " 'hecho',\n",
       " 'hice',\n",
       " 'hiper',\n",
       " 'hola',\n",
       " 'hora',\n",
       " 'horas',\n",
       " 'hotmail',\n",
       " 'hoy',\n",
       " 'hs',\n",
       " 'imagen',\n",
       " 'imprimir',\n",
       " 'inda',\n",
       " 'indicaron',\n",
       " 'info',\n",
       " 'informe',\n",
       " 'interesa',\n",
       " 'ir',\n",
       " 'ixc478',\n",
       " 'jajajajajaja',\n",
       " 'jerónimo',\n",
       " 'julio',\n",
       " 'ka1',\n",
       " 'kilos',\n",
       " 'la',\n",
       " 'lancha',\n",
       " 'lanchas',\n",
       " 'las',\n",
       " 'le',\n",
       " 'les',\n",
       " 'levantado',\n",
       " 'libertad',\n",
       " 'liliana',\n",
       " 'line',\n",
       " 'link',\n",
       " 'listo',\n",
       " 'llamaron',\n",
       " 'llave',\n",
       " 'llego',\n",
       " 'lo',\n",
       " 'localidad',\n",
       " 'los',\n",
       " 'lugar',\n",
       " 'luis',\n",
       " 'lujo',\n",
       " 'lunes',\n",
       " 'líder',\n",
       " 'mail',\n",
       " 'mandame',\n",
       " 'mandar',\n",
       " 'mandarme',\n",
       " 'mandaron',\n",
       " 'mande',\n",
       " 'marca',\n",
       " 'mariano',\n",
       " 'marido',\n",
       " 'mas',\n",
       " 'mascota',\n",
       " 'max',\n",
       " 'mañana',\n",
       " 'me',\n",
       " 'medios',\n",
       " 'mejor',\n",
       " 'menos',\n",
       " 'mensaje',\n",
       " 'mercado',\n",
       " 'mes',\n",
       " 'meses',\n",
       " 'mi',\n",
       " 'mira',\n",
       " 'misma',\n",
       " 'mismo',\n",
       " 'mod',\n",
       " 'modelo',\n",
       " 'monto',\n",
       " 'muchas',\n",
       " 'mucho',\n",
       " 'muy',\n",
       " 'más',\n",
       " 'mí',\n",
       " 'natalia',\n",
       " 'necesitaría',\n",
       " 'necesito',\n",
       " 'necesitó',\n",
       " 'nesecito',\n",
       " 'ni',\n",
       " 'niño',\n",
       " 'no',\n",
       " 'nomas',\n",
       " 'nombre',\n",
       " 'novedades',\n",
       " 'nueva',\n",
       " 'nuevamente',\n",
       " 'nuevo',\n",
       " 'numero',\n",
       " 'número',\n",
       " 'oficina',\n",
       " 'oficinas',\n",
       " 'oit199',\n",
       " 'ok',\n",
       " 'on',\n",
       " 'online',\n",
       " 'organización',\n",
       " 'otra',\n",
       " 'otro',\n",
       " 'otros',\n",
       " 'pablo',\n",
       " 'pagar',\n",
       " 'pagarlo',\n",
       " 'pagina',\n",
       " 'pago',\n",
       " 'pagofacil',\n",
       " 'pagos',\n",
       " 'pague',\n",
       " 'papeles',\n",
       " 'para',\n",
       " 'parcial',\n",
       " 'parece',\n",
       " 'pareja',\n",
       " 'parese',\n",
       " 'parte',\n",
       " 'partir',\n",
       " 'pasa',\n",
       " 'pasar',\n",
       " 'pasaron',\n",
       " 'pasaré',\n",
       " 'pasas',\n",
       " 'pase',\n",
       " 'paso',\n",
       " 'patente',\n",
       " 'pego',\n",
       " 'pendiente',\n",
       " 'pense',\n",
       " 'perdón',\n",
       " 'perfecto',\n",
       " 'permanentemente',\n",
       " 'pero',\n",
       " 'personal',\n",
       " 'personales',\n",
       " 'personalmente',\n",
       " 'peña',\n",
       " 'pide',\n",
       " 'poder',\n",
       " 'podes',\n",
       " 'podrias',\n",
       " 'podrá',\n",
       " 'podrían',\n",
       " 'podrías',\n",
       " 'podía',\n",
       " 'poliza',\n",
       " 'poner',\n",
       " 'ponían',\n",
       " 'por',\n",
       " 'porq',\n",
       " 'porque',\n",
       " 'power',\n",
       " 'precio',\n",
       " 'precios',\n",
       " 'pregunta',\n",
       " 'premura',\n",
       " 'presentar',\n",
       " 'presentarla',\n",
       " 'primera',\n",
       " 'promo',\n",
       " 'promocion',\n",
       " 'prueba',\n",
       " 'pruebas',\n",
       " 'ptas',\n",
       " 'pude',\n",
       " 'pudieron',\n",
       " 'puede',\n",
       " 'pueden',\n",
       " 'puedo',\n",
       " 'puerta',\n",
       " 'pv',\n",
       " 'póliza',\n",
       " 'que',\n",
       " 'quedan',\n",
       " 'quedaria',\n",
       " 'quedaría',\n",
       " 'queria',\n",
       " 'querian',\n",
       " 'quería',\n",
       " 'quevedo',\n",
       " 'quien',\n",
       " 'quiero',\n",
       " 'quisiera',\n",
       " 'qué',\n",
       " 'radicado',\n",
       " 'rapipago',\n",
       " 'recibida',\n",
       " 'recibo',\n",
       " 'recien',\n",
       " 'recién',\n",
       " 'recuerden',\n",
       " 'regata',\n",
       " 'regiria',\n",
       " 'regla',\n",
       " 'remolque',\n",
       " 'renovación',\n",
       " 'renovar',\n",
       " 'requisitos',\n",
       " 'resolví',\n",
       " 'respondemos',\n",
       " 'responder',\n",
       " 'respondo',\n",
       " 'responsable',\n",
       " 'respuesta',\n",
       " 'riesgo',\n",
       " 'rio',\n",
       " 'rivadavia',\n",
       " 'robo',\n",
       " 'rompió',\n",
       " 'roque',\n",
       " 'ruta',\n",
       " 'sabatini',\n",
       " 'sabattini',\n",
       " 'saber',\n",
       " 'sabido',\n",
       " 'sale',\n",
       " 'salen',\n",
       " 'salir',\n",
       " 'salía',\n",
       " 'sancor',\n",
       " 'sarsfield',\n",
       " 'saver',\n",
       " 'se',\n",
       " 'sea',\n",
       " 'sector',\n",
       " 'segunda',\n",
       " 'seguro',\n",
       " 'seis',\n",
       " 'semana',\n",
       " 'ser',\n",
       " 'seria',\n",
       " 'servicio',\n",
       " 'servir',\n",
       " 'sería',\n",
       " 'si',\n",
       " 'siempre',\n",
       " 'sin',\n",
       " 'siquiera',\n",
       " 'sobre',\n",
       " 'solamente',\n",
       " 'solicitada',\n",
       " 'solicite',\n",
       " 'solo',\n",
       " 'solucionar',\n",
       " 'son',\n",
       " 'soporte',\n",
       " 'soy',\n",
       " 'sr',\n",
       " 'sres',\n",
       " 'su',\n",
       " 'subo',\n",
       " 'sucursal',\n",
       " 'sucursales',\n",
       " 'super',\n",
       " 'sus',\n",
       " 'sáenz',\n",
       " 'sólo',\n",
       " 'también',\n",
       " 'tarde',\n",
       " 'tardes',\n",
       " 'tarjeta',\n",
       " 'tasaro',\n",
       " 'te',\n",
       " 'teléfono',\n",
       " 'temita',\n",
       " 'tendrán',\n",
       " 'tendrás',\n",
       " 'tenga',\n",
       " 'tengo',\n",
       " 'tenés',\n",
       " 'tenía',\n",
       " 'tercero',\n",
       " 'terceros',\n",
       " 'tiene',\n",
       " 'tienen',\n",
       " 'tirolesa',\n",
       " 'toco',\n",
       " 'todas',\n",
       " 'todo',\n",
       " 'todos',\n",
       " 'tomadas',\n",
       " 'tomar',\n",
       " 'total',\n",
       " 'trabajan',\n",
       " 'trabajo',\n",
       " 'tranqui',\n",
       " 'tratando',\n",
       " 'trámite',\n",
       " 'tu',\n",
       " 'tuve',\n",
       " 'uh',\n",
       " 'un',\n",
       " 'una',\n",
       " 'unico',\n",
       " 'universal',\n",
       " 'urgente',\n",
       " 'usaba',\n",
       " 'ustedes',\n",
       " 'usuaruario',\n",
       " 'vacaciones',\n",
       " 'vajo',\n",
       " 'valor',\n",
       " 'vehículo',\n",
       " 'vence',\n",
       " 'venció',\n",
       " 'veo',\n",
       " 'ver',\n",
       " 'verdad',\n",
       " 'verde',\n",
       " 'vergonzoso',\n",
       " 'vergüenza',\n",
       " 'verifico',\n",
       " 'viajar',\n",
       " 'viaje',\n",
       " 'vida',\n",
       " 'vidrio',\n",
       " 'viene',\n",
       " 'vieron',\n",
       " 'visitar',\n",
       " 'voleta',\n",
       " 'volver',\n",
       " 'voy',\n",
       " 'vw',\n",
       " 'vélez',\n",
       " 'vía',\n",
       " 'web',\n",
       " 'whatsapp',\n",
       " 'xfa',\n",
       " 'xq',\n",
       " 'ya',\n",
       " 'yo']"
      ]
     },
     "execution_count": 11,
     "metadata": {},
     "output_type": "execute_result"
    }
   ],
   "source": [
    "#feature extraction of the data\n",
    "cv.get_feature_names()"
   ]
  },
  {
   "cell_type": "code",
   "execution_count": 12,
   "metadata": {},
   "outputs": [
    {
     "data": {
      "text/plain": [
       "[array(['averiguar', 'quería', 'seguro', 'un'], dtype='<U15')]"
      ]
     },
     "execution_count": 12,
     "metadata": {},
     "output_type": "execute_result"
    }
   ],
   "source": [
    "cv.inverse_transform(train_arrai[0])"
   ]
  },
  {
   "cell_type": "markdown",
   "metadata": {},
   "source": [
    "### Tfidf Vectorizer"
   ]
  },
  {
   "cell_type": "code",
   "execution_count": 13,
   "metadata": {
    "scrolled": true
   },
   "outputs": [],
   "source": [
    "cv1 = TfidfVectorizer(min_df=1,stop_words=stop_words)"
   ]
  },
  {
   "cell_type": "code",
   "execution_count": 14,
   "metadata": {},
   "outputs": [
    {
     "data": {
      "text/plain": [
       "(216, 531)"
      ]
     },
     "execution_count": 14,
     "metadata": {},
     "output_type": "execute_result"
    }
   ],
   "source": [
    "# for making our language based training data use \"fit_transform()\"\n",
    "x_traincv1=cv1.fit_transform(x_train)\n",
    "x_traincv1.shape"
   ]
  },
  {
   "cell_type": "code",
   "execution_count": 15,
   "metadata": {},
   "outputs": [
    {
     "data": {
      "text/plain": [
       "(216, 531)"
      ]
     },
     "execution_count": 15,
     "metadata": {},
     "output_type": "execute_result"
    }
   ],
   "source": [
    "arrai1 = x_traincv1.toarray()\n",
    "arrai1.shape"
   ]
  },
  {
   "cell_type": "code",
   "execution_count": 16,
   "metadata": {
    "scrolled": true
   },
   "outputs": [
    {
     "data": {
      "text/plain": [
       "['100',\n",
       " '11',\n",
       " '19',\n",
       " '1983',\n",
       " '2008',\n",
       " '2009',\n",
       " '2011',\n",
       " '351',\n",
       " '3515069733',\n",
       " '430000',\n",
       " '506973',\n",
       " '690',\n",
       " '790',\n",
       " '794',\n",
       " '80',\n",
       " '936',\n",
       " '97',\n",
       " 'ab235',\n",
       " 'abonaba',\n",
       " 'abonar',\n",
       " 'aca',\n",
       " 'accidente',\n",
       " 'acercar',\n",
       " 'actuó',\n",
       " 'acá',\n",
       " 'además',\n",
       " 'adherirse',\n",
       " 'agradezco',\n",
       " 'aguardo',\n",
       " 'ahi',\n",
       " 'ahora',\n",
       " 'alberto',\n",
       " 'alguna',\n",
       " 'alta',\n",
       " 'andar',\n",
       " 'anterior',\n",
       " 'anulada',\n",
       " 'aparece',\n",
       " 'apenas',\n",
       " 'aproximadamente',\n",
       " 'aqui',\n",
       " 'arriba',\n",
       " 'as',\n",
       " 'asegurado',\n",
       " 'asegurar',\n",
       " 'asesoro',\n",
       " 'asi',\n",
       " 'assistance',\n",
       " 'así',\n",
       " 'atención',\n",
       " 'atendian',\n",
       " 'atendieron',\n",
       " 'atras',\n",
       " 'atrás',\n",
       " 'atte',\n",
       " 'aumentan',\n",
       " 'auto',\n",
       " 'automovil',\n",
       " 'autos',\n",
       " 'averiguar',\n",
       " 'avise',\n",
       " 'aviso',\n",
       " 'ayer',\n",
       " 'bersion',\n",
       " 'bertuccelli_edo',\n",
       " 'bicicletas',\n",
       " 'bien',\n",
       " 'boleta',\n",
       " 'bonito',\n",
       " 'boton',\n",
       " 'breve',\n",
       " 'brindar',\n",
       " 'bs',\n",
       " 'bsas',\n",
       " 'buen',\n",
       " 'buena',\n",
       " 'buenas',\n",
       " 'buenisimo',\n",
       " 'bueno',\n",
       " 'buenos',\n",
       " 'bustos',\n",
       " 'cabrera',\n",
       " 'camioneta',\n",
       " 'cancelar',\n",
       " 'carol',\n",
       " 'casa',\n",
       " 'categoria',\n",
       " 'cba',\n",
       " 'cbu',\n",
       " 'celular',\n",
       " 'centro',\n",
       " 'cerca',\n",
       " 'chiquita',\n",
       " 'choco',\n",
       " 'chocó',\n",
       " 'cliente',\n",
       " 'clio',\n",
       " 'cobertura',\n",
       " 'coberturas',\n",
       " 'cobrar',\n",
       " 'colaboración',\n",
       " 'colonia',\n",
       " 'com',\n",
       " 'comparando',\n",
       " 'compañía',\n",
       " 'completo',\n",
       " 'comprobante',\n",
       " 'comunicar',\n",
       " 'conocer',\n",
       " 'consiste',\n",
       " 'consulta',\n",
       " 'consultar',\n",
       " 'consultarle',\n",
       " 'contactarnos',\n",
       " 'contestar',\n",
       " 'contestaron',\n",
       " 'conteste',\n",
       " 'contratado',\n",
       " 'contratar',\n",
       " 'contratarlo',\n",
       " 'conté',\n",
       " 'conveniente',\n",
       " 'cordoba',\n",
       " 'correo',\n",
       " 'cosa',\n",
       " 'cosas',\n",
       " 'costara',\n",
       " 'cotisaron',\n",
       " 'cotizacion',\n",
       " 'cotización',\n",
       " 'cotizar',\n",
       " 'cotizaron',\n",
       " 'cotizas',\n",
       " 'credito',\n",
       " 'creo',\n",
       " 'cuadras',\n",
       " 'cualquier',\n",
       " 'cuanto',\n",
       " 'cuarto',\n",
       " 'cuatrimestral',\n",
       " 'cubra',\n",
       " 'cubre',\n",
       " 'cuenta',\n",
       " 'cuentan',\n",
       " 'cuestiones',\n",
       " 'cuestión',\n",
       " 'cumplo',\n",
       " 'cuota',\n",
       " 'cupon',\n",
       " 'cupón',\n",
       " 'cuándo',\n",
       " 'cómo',\n",
       " 'dale',\n",
       " 'dan',\n",
       " 'dar',\n",
       " 'datos',\n",
       " 'day',\n",
       " 'deben',\n",
       " 'debo',\n",
       " 'decia',\n",
       " 'decime',\n",
       " 'decir',\n",
       " 'decís',\n",
       " 'deja',\n",
       " 'deje',\n",
       " 'demora',\n",
       " 'den',\n",
       " 'denuncia',\n",
       " 'deseo',\n",
       " 'después',\n",
       " 'detallaba',\n",
       " 'dia',\n",
       " 'dias',\n",
       " 'dice',\n",
       " 'dicho',\n",
       " 'diego',\n",
       " 'dieron',\n",
       " 'dijeron',\n",
       " 'dirección',\n",
       " 'documentacion',\n",
       " 'documento',\n",
       " 'documentos',\n",
       " 'domingo',\n",
       " 'dueño',\n",
       " 'débito',\n",
       " 'día',\n",
       " 'días',\n",
       " 'díganme',\n",
       " 'efectivamente',\n",
       " 'efectivo',\n",
       " 'eficientes',\n",
       " 'electrónico',\n",
       " 'encanta',\n",
       " 'encima',\n",
       " 'entero',\n",
       " 'entiendo',\n",
       " 'envarón',\n",
       " 'envia',\n",
       " 'envianos',\n",
       " 'enviar',\n",
       " 'enviarme',\n",
       " 'envio',\n",
       " 'envían',\n",
       " 'envíe',\n",
       " 'envíen',\n",
       " 'envío',\n",
       " 'equivocaron',\n",
       " 'escribo',\n",
       " 'escudo',\n",
       " 'esperando',\n",
       " 'espero',\n",
       " 'estanciera',\n",
       " 'etc',\n",
       " 'excelente',\n",
       " 'extraordinarios',\n",
       " 'f100',\n",
       " 'facil',\n",
       " 'falcon',\n",
       " 'falta',\n",
       " 'favor',\n",
       " 'fe',\n",
       " 'fierro',\n",
       " 'flete',\n",
       " 'fmk',\n",
       " 'ford',\n",
       " 'forma',\n",
       " 'foto',\n",
       " 'fotos',\n",
       " 'fritas',\n",
       " 'genial',\n",
       " 'gnc',\n",
       " 'gol',\n",
       " 'graciaa',\n",
       " 'gracias',\n",
       " 'grupo',\n",
       " 'grúa',\n",
       " 'guardado',\n",
       " 'guiar',\n",
       " 'gusto',\n",
       " 'haber',\n",
       " 'habian',\n",
       " 'hablaba',\n",
       " 'hace',\n",
       " 'hacer',\n",
       " 'hacerle',\n",
       " 'hago',\n",
       " 'haran',\n",
       " 'hecho',\n",
       " 'hice',\n",
       " 'hiper',\n",
       " 'hola',\n",
       " 'hora',\n",
       " 'horas',\n",
       " 'hotmail',\n",
       " 'hoy',\n",
       " 'hs',\n",
       " 'imagen',\n",
       " 'imprimir',\n",
       " 'inda',\n",
       " 'indicaron',\n",
       " 'info',\n",
       " 'informe',\n",
       " 'interesa',\n",
       " 'ir',\n",
       " 'ixc478',\n",
       " 'jajajajajaja',\n",
       " 'jerónimo',\n",
       " 'julio',\n",
       " 'ka1',\n",
       " 'kilos',\n",
       " 'lancha',\n",
       " 'lanchas',\n",
       " 'levantado',\n",
       " 'libertad',\n",
       " 'liliana',\n",
       " 'line',\n",
       " 'link',\n",
       " 'listo',\n",
       " 'llamaron',\n",
       " 'llave',\n",
       " 'llego',\n",
       " 'localidad',\n",
       " 'lugar',\n",
       " 'luis',\n",
       " 'lujo',\n",
       " 'lunes',\n",
       " 'líder',\n",
       " 'mail',\n",
       " 'mandame',\n",
       " 'mandar',\n",
       " 'mandarme',\n",
       " 'mandaron',\n",
       " 'mande',\n",
       " 'marca',\n",
       " 'mariano',\n",
       " 'marido',\n",
       " 'mas',\n",
       " 'mascota',\n",
       " 'max',\n",
       " 'mañana',\n",
       " 'medios',\n",
       " 'mejor',\n",
       " 'menos',\n",
       " 'mensaje',\n",
       " 'mercado',\n",
       " 'mes',\n",
       " 'meses',\n",
       " 'mira',\n",
       " 'misma',\n",
       " 'mismo',\n",
       " 'mod',\n",
       " 'modelo',\n",
       " 'monto',\n",
       " 'muchas',\n",
       " 'natalia',\n",
       " 'necesitaría',\n",
       " 'necesito',\n",
       " 'necesitó',\n",
       " 'nesecito',\n",
       " 'niño',\n",
       " 'nomas',\n",
       " 'nombre',\n",
       " 'novedades',\n",
       " 'nueva',\n",
       " 'nuevamente',\n",
       " 'nuevo',\n",
       " 'numero',\n",
       " 'número',\n",
       " 'oficina',\n",
       " 'oficinas',\n",
       " 'oit199',\n",
       " 'ok',\n",
       " 'on',\n",
       " 'online',\n",
       " 'organización',\n",
       " 'pablo',\n",
       " 'pagar',\n",
       " 'pagarlo',\n",
       " 'pagina',\n",
       " 'pago',\n",
       " 'pagofacil',\n",
       " 'pagos',\n",
       " 'pague',\n",
       " 'papeles',\n",
       " 'parcial',\n",
       " 'parece',\n",
       " 'pareja',\n",
       " 'parese',\n",
       " 'parte',\n",
       " 'partir',\n",
       " 'pasa',\n",
       " 'pasar',\n",
       " 'pasaron',\n",
       " 'pasaré',\n",
       " 'pasas',\n",
       " 'pase',\n",
       " 'paso',\n",
       " 'patente',\n",
       " 'pego',\n",
       " 'pendiente',\n",
       " 'pense',\n",
       " 'perdón',\n",
       " 'perfecto',\n",
       " 'permanentemente',\n",
       " 'personal',\n",
       " 'personales',\n",
       " 'personalmente',\n",
       " 'peña',\n",
       " 'pide',\n",
       " 'poder',\n",
       " 'podes',\n",
       " 'podrias',\n",
       " 'podrá',\n",
       " 'podrían',\n",
       " 'podrías',\n",
       " 'podía',\n",
       " 'poliza',\n",
       " 'poner',\n",
       " 'ponían',\n",
       " 'porq',\n",
       " 'power',\n",
       " 'precio',\n",
       " 'precios',\n",
       " 'pregunta',\n",
       " 'premura',\n",
       " 'presentar',\n",
       " 'presentarla',\n",
       " 'primera',\n",
       " 'promo',\n",
       " 'promocion',\n",
       " 'prueba',\n",
       " 'pruebas',\n",
       " 'ptas',\n",
       " 'pude',\n",
       " 'pudieron',\n",
       " 'puede',\n",
       " 'pueden',\n",
       " 'puedo',\n",
       " 'puerta',\n",
       " 'pv',\n",
       " 'póliza',\n",
       " 'quedan',\n",
       " 'quedaria',\n",
       " 'quedaría',\n",
       " 'queria',\n",
       " 'querian',\n",
       " 'quería',\n",
       " 'quevedo',\n",
       " 'quiero',\n",
       " 'quisiera',\n",
       " 'radicado',\n",
       " 'rapipago',\n",
       " 'recibida',\n",
       " 'recibo',\n",
       " 'recien',\n",
       " 'recién',\n",
       " 'recuerden',\n",
       " 'regata',\n",
       " 'regiria',\n",
       " 'regla',\n",
       " 'remolque',\n",
       " 'renovación',\n",
       " 'renovar',\n",
       " 'requisitos',\n",
       " 'resolví',\n",
       " 'respondemos',\n",
       " 'responder',\n",
       " 'respondo',\n",
       " 'responsable',\n",
       " 'respuesta',\n",
       " 'riesgo',\n",
       " 'rio',\n",
       " 'rivadavia',\n",
       " 'robo',\n",
       " 'rompió',\n",
       " 'roque',\n",
       " 'ruta',\n",
       " 'sabatini',\n",
       " 'sabattini',\n",
       " 'saber',\n",
       " 'sabido',\n",
       " 'sale',\n",
       " 'salen',\n",
       " 'salir',\n",
       " 'salía',\n",
       " 'sancor',\n",
       " 'sarsfield',\n",
       " 'saver',\n",
       " 'sector',\n",
       " 'segunda',\n",
       " 'seguro',\n",
       " 'seis',\n",
       " 'semana',\n",
       " 'ser',\n",
       " 'seria',\n",
       " 'servicio',\n",
       " 'servir',\n",
       " 'si',\n",
       " 'siempre',\n",
       " 'siquiera',\n",
       " 'solamente',\n",
       " 'solicitada',\n",
       " 'solicite',\n",
       " 'solo',\n",
       " 'solucionar',\n",
       " 'soporte',\n",
       " 'sr',\n",
       " 'sres',\n",
       " 'subo',\n",
       " 'sucursal',\n",
       " 'sucursales',\n",
       " 'super',\n",
       " 'sáenz',\n",
       " 'sólo',\n",
       " 'tarde',\n",
       " 'tardes',\n",
       " 'tarjeta',\n",
       " 'tasaro',\n",
       " 'teléfono',\n",
       " 'temita',\n",
       " 'tenés',\n",
       " 'tercero',\n",
       " 'terceros',\n",
       " 'tirolesa',\n",
       " 'toco',\n",
       " 'todas',\n",
       " 'tomadas',\n",
       " 'tomar',\n",
       " 'total',\n",
       " 'trabajan',\n",
       " 'trabajo',\n",
       " 'tranqui',\n",
       " 'tratando',\n",
       " 'trámite',\n",
       " 'uh',\n",
       " 'unico',\n",
       " 'universal',\n",
       " 'urgente',\n",
       " 'usaba',\n",
       " 'ustedes',\n",
       " 'usuaruario',\n",
       " 'vacaciones',\n",
       " 'vajo',\n",
       " 'valor',\n",
       " 'vehículo',\n",
       " 'vence',\n",
       " 'venció',\n",
       " 'veo',\n",
       " 'ver',\n",
       " 'verdad',\n",
       " 'verde',\n",
       " 'vergonzoso',\n",
       " 'vergüenza',\n",
       " 'verifico',\n",
       " 'viajar',\n",
       " 'viaje',\n",
       " 'vida',\n",
       " 'vidrio',\n",
       " 'viene',\n",
       " 'vieron',\n",
       " 'visitar',\n",
       " 'voleta',\n",
       " 'volver',\n",
       " 'voy',\n",
       " 'vw',\n",
       " 'vélez',\n",
       " 'vía',\n",
       " 'web',\n",
       " 'whatsapp',\n",
       " 'xfa',\n",
       " 'xq']"
      ]
     },
     "execution_count": 16,
     "metadata": {},
     "output_type": "execute_result"
    }
   ],
   "source": [
    "#feature extraction of the data\n",
    "cv1.get_feature_names()"
   ]
  },
  {
   "cell_type": "code",
   "execution_count": 17,
   "metadata": {},
   "outputs": [
    {
     "data": {
      "text/plain": [
       "[array(['averiguar', 'quería', 'seguro'], dtype='<U15')]"
      ]
     },
     "execution_count": 17,
     "metadata": {},
     "output_type": "execute_result"
    }
   ],
   "source": [
    "cv1.inverse_transform(arrai1[0])"
   ]
  },
  {
   "cell_type": "code",
   "execution_count": 18,
   "metadata": {
    "scrolled": true
   },
   "outputs": [
    {
     "data": {
      "text/plain": [
       "'Quería averiguar x un seguro'"
      ]
     },
     "execution_count": 18,
     "metadata": {},
     "output_type": "execute_result"
    }
   ],
   "source": [
    "x_train.iloc[0]"
   ]
  },
  {
   "cell_type": "markdown",
   "metadata": {},
   "source": [
    "### Let's test the two vectorizations with the NB classification algo"
   ]
  },
  {
   "cell_type": "markdown",
   "metadata": {},
   "source": [
    "### Count vectorizer w/ NB Classifier"
   ]
  },
  {
   "cell_type": "code",
   "execution_count": 19,
   "metadata": {},
   "outputs": [],
   "source": [
    "mnb=MultinomialNB()"
   ]
  },
  {
   "cell_type": "code",
   "execution_count": 20,
   "metadata": {},
   "outputs": [
    {
     "data": {
      "text/plain": [
       "MultinomialNB(alpha=1.0, class_prior=None, fit_prior=True)"
      ]
     },
     "execution_count": 20,
     "metadata": {},
     "output_type": "execute_result"
    }
   ],
   "source": [
    "# for applying the Naive Bayes algorithm use \"fit()\"\n",
    "mnb.fit(train_arrai, y_train)"
   ]
  },
  {
   "cell_type": "code",
   "execution_count": 21,
   "metadata": {},
   "outputs": [],
   "source": [
    "# test data use \"transform()\"\n",
    "x_testcv = cv.transform(x_test)\n",
    "test_arrai  = x_testcv.toarray()"
   ]
  },
  {
   "cell_type": "code",
   "execution_count": 22,
   "metadata": {
    "scrolled": true
   },
   "outputs": [
    {
     "data": {
      "text/plain": [
       "array([0, 0, 0, 0, 0, 0, 1, 0, 0, 0, 0, 0, 0, 0, 0, 0, 0, 0, 0, 0, 0, 0,\n",
       "       0, 0, 0, 0, 0, 0, 0, 0, 0, 0, 0, 1, 0, 0, 0, 0, 0, 0, 0, 0, 0, 0,\n",
       "       0, 0, 0, 0, 0, 0, 0, 0, 1, 0, 1])"
      ]
     },
     "execution_count": 22,
     "metadata": {},
     "output_type": "execute_result"
    }
   ],
   "source": [
    "#predictions\n",
    "pred = mnb.predict(test_arrai)\n",
    "pred"
   ]
  },
  {
   "cell_type": "code",
   "execution_count": 23,
   "metadata": {},
   "outputs": [
    {
     "data": {
      "text/plain": [
       "array([0, 0, 0, 0, 0, 0, 0, 0, 1, 0, 0, 0, 0, 0, 1, 0, 0, 0, 0, 0, 0, 0,\n",
       "       0, 0, 0, 0, 0, 0, 1, 0, 0, 0, 0, 1, 0, 0, 0, 1, 0, 0, 0, 0, 1, 0,\n",
       "       0, 0, 0, 0, 0, 0, 0, 0, 1, 0, 1], dtype=object)"
      ]
     },
     "execution_count": 23,
     "metadata": {},
     "output_type": "execute_result"
    }
   ],
   "source": [
    "actual=np.array(y_test)\n",
    "actual"
   ]
  },
  {
   "cell_type": "code",
   "execution_count": 24,
   "metadata": {},
   "outputs": [
    {
     "name": "stdout",
     "output_type": "stream",
     "text": [
      "We have 49 correct predictions out of 55 .\n",
      "Total 89.0909090909091 accuracy using Count Vectorizer.\n"
     ]
    }
   ],
   "source": [
    "count=0\n",
    "for i in range (len(pred)):\n",
    "    if pred[i]==actual[i]:\n",
    "        count=count+1\n",
    "print(\"We have\",count,\"correct predictions out of\",len(pred),\".\")\n",
    "print(\"Total\",(count/len(pred))*100,\"accuracy using Count Vectorizer.\")"
   ]
  },
  {
   "cell_type": "markdown",
   "metadata": {},
   "source": [
    "### TFIDF Vectorizer w/ NB classification"
   ]
  },
  {
   "cell_type": "code",
   "execution_count": 25,
   "metadata": {},
   "outputs": [
    {
     "data": {
      "text/plain": [
       "MultinomialNB(alpha=1.0, class_prior=None, fit_prior=True)"
      ]
     },
     "execution_count": 25,
     "metadata": {},
     "output_type": "execute_result"
    }
   ],
   "source": [
    "mnb.fit(x_traincv1, y_train)"
   ]
  },
  {
   "cell_type": "code",
   "execution_count": 26,
   "metadata": {},
   "outputs": [],
   "source": [
    "#x_testcv1 = cv1.transform(x_test)\n",
    "\n",
    "# test data use \"transform()\"\n",
    "x_testcv1 = cv1.transform(x_test)\n",
    "test_arrai1  = x_testcv1.toarray()"
   ]
  },
  {
   "cell_type": "code",
   "execution_count": 27,
   "metadata": {},
   "outputs": [
    {
     "data": {
      "text/plain": [
       "array([0, 0, 0, 0, 0, 0, 0, 0, 0, 0, 0, 0, 0, 0, 0, 0, 0, 0, 0, 0, 0, 0,\n",
       "       0, 0, 0, 0, 0, 0, 0, 0, 0, 0, 0, 0, 0, 0, 0, 0, 0, 0, 0, 0, 0, 0,\n",
       "       0, 0, 0, 0, 0, 0, 0, 0, 0, 0, 0])"
      ]
     },
     "execution_count": 27,
     "metadata": {},
     "output_type": "execute_result"
    }
   ],
   "source": [
    "pred1 = mnb.predict(test_arrai1)\n",
    "pred1"
   ]
  },
  {
   "cell_type": "code",
   "execution_count": 28,
   "metadata": {},
   "outputs": [
    {
     "data": {
      "text/plain": [
       "array([0, 0, 0, 0, 0, 0, 0, 0, 1, 0, 0, 0, 0, 0, 1, 0, 0, 0, 0, 0, 0, 0,\n",
       "       0, 0, 0, 0, 0, 0, 1, 0, 0, 0, 0, 1, 0, 0, 0, 1, 0, 0, 0, 0, 1, 0,\n",
       "       0, 0, 0, 0, 0, 0, 0, 0, 1, 0, 1], dtype=object)"
      ]
     },
     "execution_count": 28,
     "metadata": {},
     "output_type": "execute_result"
    }
   ],
   "source": [
    "actual1=np.array(y_test)\n",
    "actual1"
   ]
  },
  {
   "cell_type": "code",
   "execution_count": 29,
   "metadata": {},
   "outputs": [
    {
     "name": "stdout",
     "output_type": "stream",
     "text": [
      "We have 47 correct predictions out of 55\n",
      "Total 85.45454545454545 accuracy using Tfidf Vectorizer\n"
     ]
    }
   ],
   "source": [
    "count1=0\n",
    "for i in range (len(pred1)):\n",
    "    if pred1[i]==actual1[i]:\n",
    "        count1=count1+1\n",
    "print(\"We have\",count1,\"correct predictions out of\",len(pred1))\n",
    "print(\"Total\",(count1/len(pred1))*100,\"accuracy using Tfidf Vectorizer\")"
   ]
  },
  {
   "cell_type": "markdown",
   "metadata": {},
   "source": [
    "### We have our answer: The Naive Bayes classifier performed better with the *Count Vectorizer* (89 percent accuracy) than with the TF-IDF Vectorizer (85 percent accuracy). As out data set grows, the vectorizer we want to use may change as well. "
   ]
  },
  {
   "cell_type": "markdown",
   "metadata": {},
   "source": [
    "### Now that we know Count Vectorizer performs better, let's try a couple variations of the NB algo"
   ]
  },
  {
   "cell_type": "markdown",
   "metadata": {},
   "source": [
    "### Gaussian Naive Bayes"
   ]
  },
  {
   "cell_type": "code",
   "execution_count": 30,
   "metadata": {},
   "outputs": [],
   "source": [
    "gnb=GaussianNB()"
   ]
  },
  {
   "cell_type": "code",
   "execution_count": 31,
   "metadata": {},
   "outputs": [],
   "source": [
    "# for applying the Naive Bayes algorithm use \"fit()\"\n",
    "gnb.fit(train_arrai, y_train)\n",
    "# test data use \"transform()\"\n",
    "x_testcv = cv.transform(x_test)"
   ]
  },
  {
   "cell_type": "code",
   "execution_count": 32,
   "metadata": {},
   "outputs": [
    {
     "data": {
      "text/plain": [
       "array([0, 1, 1, 0, 0, 0, 1, 0, 1, 0, 0, 0, 0, 0, 0, 1, 1, 0, 0, 0, 0, 0,\n",
       "       0, 1, 0, 1, 0, 0, 1, 1, 0, 1, 0, 1, 0, 0, 1, 0, 0, 0, 0, 0, 1, 0,\n",
       "       0, 0, 0, 0, 0, 0, 0, 0, 0, 0, 1])"
      ]
     },
     "execution_count": 32,
     "metadata": {},
     "output_type": "execute_result"
    }
   ],
   "source": [
    "#predictions\n",
    "pred = gnb.predict(test_arrai)\n",
    "pred"
   ]
  },
  {
   "cell_type": "code",
   "execution_count": 33,
   "metadata": {},
   "outputs": [
    {
     "data": {
      "text/plain": [
       "array([0, 0, 0, 0, 0, 0, 0, 0, 1, 0, 0, 0, 0, 0, 1, 0, 0, 0, 0, 0, 0, 0,\n",
       "       0, 0, 0, 0, 0, 0, 1, 0, 0, 0, 0, 1, 0, 0, 0, 1, 0, 0, 0, 0, 1, 0,\n",
       "       0, 0, 0, 0, 0, 0, 0, 0, 1, 0, 1], dtype=object)"
      ]
     },
     "execution_count": 33,
     "metadata": {},
     "output_type": "execute_result"
    }
   ],
   "source": [
    "actual=np.array(y_test)\n",
    "actual"
   ]
  },
  {
   "cell_type": "code",
   "execution_count": 34,
   "metadata": {},
   "outputs": [
    {
     "name": "stdout",
     "output_type": "stream",
     "text": [
      "We have 47 correct predictions out of 55\n",
      "Total 85.45454545454545 accuracy using Gaussian NB\n"
     ]
    }
   ],
   "source": [
    "count1=0\n",
    "for i in range (len(pred1)):\n",
    "    if pred1[i]==actual1[i]:\n",
    "        count1=count1+1\n",
    "print(\"We have\",count1,\"correct predictions out of\",len(pred1))\n",
    "print(\"Total\",(count1/len(pred1))*100,\"accuracy using Gaussian NB\")"
   ]
  },
  {
   "cell_type": "markdown",
   "metadata": {},
   "source": [
    "### Bernoulli Naive Bayes"
   ]
  },
  {
   "cell_type": "code",
   "execution_count": 35,
   "metadata": {},
   "outputs": [],
   "source": [
    "bnb=BernoulliNB()"
   ]
  },
  {
   "cell_type": "code",
   "execution_count": 36,
   "metadata": {},
   "outputs": [],
   "source": [
    "# for applying the Naive Bayes algorithm use \"fit()\"\n",
    "bnb.fit(train_arrai, y_train)\n",
    "# test data use \"transform()\"\n",
    "x_testcv = cv.transform(x_test)"
   ]
  },
  {
   "cell_type": "code",
   "execution_count": 37,
   "metadata": {},
   "outputs": [
    {
     "data": {
      "text/plain": [
       "array([0, 0, 0, 0, 0, 0, 0, 0, 0, 0, 0, 0, 0, 0, 0, 0, 0, 0, 0, 0, 0, 0,\n",
       "       0, 0, 0, 0, 0, 0, 0, 0, 0, 0, 0, 0, 0, 0, 0, 0, 0, 0, 0, 0, 0, 0,\n",
       "       0, 0, 0, 0, 0, 0, 0, 0, 0, 0, 0])"
      ]
     },
     "execution_count": 37,
     "metadata": {},
     "output_type": "execute_result"
    }
   ],
   "source": [
    "#predictions\n",
    "pred = bnb.predict(test_arrai)\n",
    "pred"
   ]
  },
  {
   "cell_type": "code",
   "execution_count": 38,
   "metadata": {},
   "outputs": [
    {
     "data": {
      "text/plain": [
       "array([0, 0, 0, 0, 0, 0, 0, 0, 1, 0, 0, 0, 0, 0, 1, 0, 0, 0, 0, 0, 0, 0,\n",
       "       0, 0, 0, 0, 0, 0, 1, 0, 0, 0, 0, 1, 0, 0, 0, 1, 0, 0, 0, 0, 1, 0,\n",
       "       0, 0, 0, 0, 0, 0, 0, 0, 1, 0, 1], dtype=object)"
      ]
     },
     "execution_count": 38,
     "metadata": {},
     "output_type": "execute_result"
    }
   ],
   "source": [
    "actual=np.array(y_test)\n",
    "actual"
   ]
  },
  {
   "cell_type": "code",
   "execution_count": 39,
   "metadata": {},
   "outputs": [
    {
     "name": "stdout",
     "output_type": "stream",
     "text": [
      "We have 47 correct predictions out of 55\n",
      "Total 85.45454545454545 accuracy using Bernoulli NB\n"
     ]
    }
   ],
   "source": [
    "count1=0\n",
    "for i in range (len(pred1)):\n",
    "    if pred1[i]==actual1[i]:\n",
    "        count1=count1+1\n",
    "print(\"We have\",count1,\"correct predictions out of\",len(pred1))\n",
    "print(\"Total\",(count1/len(pred1))*100,\"accuracy using Bernoulli NB\")"
   ]
  },
  {
   "cell_type": "markdown",
   "metadata": {},
   "source": [
    "### Conclusion: All perform pretty similarly. "
   ]
  }
 ],
 "metadata": {
  "kernelspec": {
   "display_name": "Python 3",
   "language": "python",
   "name": "python3"
  },
  "language_info": {
   "codemirror_mode": {
    "name": "ipython",
    "version": 3
   },
   "file_extension": ".py",
   "mimetype": "text/x-python",
   "name": "python",
   "nbconvert_exporter": "python",
   "pygments_lexer": "ipython3",
   "version": "3.7.2"
  }
 },
 "nbformat": 4,
 "nbformat_minor": 2
}
