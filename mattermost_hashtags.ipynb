{
 "cells": [
  {
   "cell_type": "code",
   "execution_count": 1,
   "metadata": {},
   "outputs": [],
   "source": [
    "import re\n",
    "import pandas as pd\n",
    "import nltk\n",
    "from nltk.tokenize import word_tokenize\n",
    "from nltk.corpus import stopwords\n",
    "from nltk.corpus import stopwords\n",
    "from sklearn import feature_extraction\n",
    "from sklearn.feature_extraction.text import TfidfVectorizer\n",
    "from sklearn.cluster import KMeans\n",
    "from nltk.stem.snowball import SnowballStemmer\n",
    "from nltk.corpus import europarl_raw\n",
    "from nltk.tokenize import PunktSentenceTokenizer\n",
    "import textacy\n",
    "stemmer = SnowballStemmer(\"spanish\")"
   ]
  },
  {
   "cell_type": "code",
   "execution_count": 2,
   "metadata": {},
   "outputs": [],
   "source": [
    "#read dataset from csv\n",
    "df = pd.read_csv('new_mattermost.csv')"
   ]
  },
  {
   "cell_type": "code",
   "execution_count": 26,
   "metadata": {},
   "outputs": [],
   "source": [
    "hashtags = df.Hashtags.dropna()"
   ]
  },
  {
   "cell_type": "code",
   "execution_count": 25,
   "metadata": {},
   "outputs": [
    {
     "name": "stdout",
     "output_type": "stream",
     "text": [
      "80 different hashtags were used\n",
      "#consulta_campaña\n",
      "#consulta_flebologia\n",
      "#turno_flebologia\n",
      "#dr_lamoratta\n",
      "#turno_cancela\n",
      "#dr_elorza\n",
      "#dr_falcon\n",
      "#turno_confirma\n",
      "#turno_facebook\n",
      "#no_confirma\n",
      "#turno_reprogramado\n",
      "#turno\n",
      "#dra_vazquez\n",
      "#lic_vazquez\n",
      "#turno_no_confirma\n",
      "#pendiente_respuesta\n",
      "#consulta_dermatologia\n",
      "#no_brida_datos\n",
      "#encuesta\n",
      "#tratamiento_esclero\n",
      "#turno_estetica\n",
      "#turno_pendiente_responder\n",
      "#turno_cancelatarde\n",
      "#dr_morales\n",
      "#turno_clinica\n",
      "#turno_nutricionista\n",
      "#turno_dermatologia\n",
      "#dra_formi\n",
      "#consulta_estetica\n",
      "#dra_form\n",
      "#confirmacion_turno\n",
      "#consulta_otraespecialidad\n",
      "#no_contesta\n",
      "#hola\n",
      "#consulta_turno\n",
      "#no_puede_por_horario\n",
      "#consulta_nutricionista\n",
      "#tratamiento_estetico\n",
      "#dr_porchietto\n",
      "#dr_pozzi\n",
      "#turno_doppler\n",
      "#dra_elorza\n",
      "#dra_forni\n",
      "#no_puede_abonar\n",
      "#pordistancia\n",
      "#dra_pozzi\n",
      "#dr_vazquez\n",
      "#turno_confirmado\n",
      "#consulta_Turno\n",
      "#Turno\n",
      "#turno_controltratamiento\n",
      "#lic_porchietto\n",
      "#consulta_derivada\n",
      "#turno_microcirugia\n",
      "#no_informacion_adara\n",
      "#dr_forni\n",
      "#turno_hemorroidal\n",
      "#envio_documentacion\n",
      "#consulta_siniestro\n",
      "#gestion_mercadopago\n",
      "#gestion_renovacion\n",
      "#gestion_recupero\n",
      "#consulta_poliza\n",
      "#consulta_mercadopago\n",
      "#consulta_grua\n",
      "#consulta_cotizacion_auto\n",
      "#gestion_seguro_nvo\n",
      "#gestion_documentacion\n",
      "#recupero\n",
      "#poliza\n",
      "#cobro\n",
      "#renovacion\n",
      "#gestion_endoso\n",
      "#consulta_cotizacion_AP\n",
      "#gestion_seguronuevo\n",
      "#consulta_sucursales\n",
      "#emi_video_app\n",
      "#consulta_emi\n",
      "#consulta_cobro\n",
      "#consulta_cobranza\n"
     ]
    }
   ],
   "source": [
    "topics = hashtags.unique()\n",
    "count = 0\n",
    "print(len(topics),'different hashtags were used')    \n",
    "for i in topics:\n",
    "    print(i)"
   ]
  },
  {
   "cell_type": "markdown",
   "metadata": {},
   "source": [
    "## Make a counter to find the most common occurring hashtag"
   ]
  },
  {
   "cell_type": "code",
   "execution_count": 27,
   "metadata": {},
   "outputs": [],
   "source": [
    "counts=dict()\n",
    "for line in hashtags:\n",
    "    counts[line]=counts.get(line,0)+1\n",
    "    \n",
    "counts"
   ]
  },
  {
   "cell_type": "code",
   "execution_count": 31,
   "metadata": {},
   "outputs": [
    {
     "name": "stdout",
     "output_type": "stream",
     "text": [
      "The most coomon hastag used was: #turno_confirma used 235 times\n"
     ]
    }
   ],
   "source": [
    "bigcount=None\n",
    "bigword=None\n",
    "for word,count in counts.items():\n",
    "    if bigcount is None or count>bigcount:\n",
    "        bigword=word\n",
    "        bigcount=count\n",
    "print(\"The most coomon hastag used was:\",bigword,\"used\",bigcount,\"times\")"
   ]
  },
  {
   "cell_type": "code",
   "execution_count": null,
   "metadata": {
    "scrolled": false
   },
   "outputs": [],
   "source": [
    "mydict = {}\n",
    "pos = []\n",
    "tokens = []\n",
    "occurr = []\n",
    "\n",
    "for topic in hashtags:\n",
    "    \n",
    "    \n",
    "print(\"Number of tokens:\", len(mydict))\n",
    "\n",
    "for key,val in mydict.items():\n",
    "    tokens.append(str(key))\n",
    "    pos.append(val)\n",
    "    occurr.append(int(1))\n",
    "print(\"Three columns - python lists - preprocessed for pandas dataframe: 'tokens', 'pos', and 'occurr'.\")"
   ]
  },
  {
   "cell_type": "code",
   "execution_count": null,
   "metadata": {},
   "outputs": [],
   "source": [
    "graph_df = pd.DataFrame()\n",
    "\n",
    "for region in df['region'].unique()[:16]:\n",
    "    print(region)\n",
    "    region_df = df.copy()[df['region']==region]\n",
    "    region_df.set_index('Date', inplace=True)\n",
    "    region_df.sort_index(inplace=True)\n",
    "    region_df[f\"{region}_price25ma\"] = region_df[\"AveragePrice\"].rolling(25).mean()\n",
    "\n",
    "    if graph_df.empty:\n",
    "        graph_df = region_df[[f\"{region}_price25ma\"]]  # note the double square brackets!\n",
    "    else:\n",
    "        graph_df = graph_df.join(region_df[f\"{region}_price25ma\"])"
   ]
  }
 ],
 "metadata": {
  "kernelspec": {
   "display_name": "Python 3",
   "language": "python",
   "name": "python3"
  },
  "language_info": {
   "codemirror_mode": {
    "name": "ipython",
    "version": 3
   },
   "file_extension": ".py",
   "mimetype": "text/x-python",
   "name": "python",
   "nbconvert_exporter": "python",
   "pygments_lexer": "ipython3",
   "version": "3.5.6"
  }
 },
 "nbformat": 4,
 "nbformat_minor": 2
}
