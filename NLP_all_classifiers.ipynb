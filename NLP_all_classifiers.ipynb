{
 "cells": [
  {
   "cell_type": "markdown",
   "metadata": {},
   "source": [
    "## TEXT CLASSIFIERS TESTS: \n",
    "#### Multinomial Naive Bayes, Bernoulli Naive Bayes, Gaussian Naive Bayes, Logistical Regression, Stochastic Gradient Descent (SGD), Support Vector Classifier (SVC), Linear Support Vector, and SVC with number of support vectors specified"
   ]
  },
  {
   "cell_type": "code",
   "execution_count": 1,
   "metadata": {},
   "outputs": [],
   "source": [
    "import pandas as pd\n",
    "import numpy as np\n",
    "import nltk\n",
    "from sklearn.feature_extraction.text import CountVectorizer\n",
    "from sklearn.feature_extraction.text import TfidfVectorizer\n",
    "from sklearn.model_selection import train_test_split\n",
    "from sklearn.naive_bayes import MultinomialNB\n",
    "from nltk.corpus import stopwords"
   ]
  },
  {
   "cell_type": "code",
   "execution_count": 2,
   "metadata": {
    "scrolled": true
   },
   "outputs": [
    {
     "name": "stderr",
     "output_type": "stream",
     "text": [
      "[nltk_data] Downloading package stopwords to\n",
      "[nltk_data]     /Users/brandonjanes/nltk_data...\n",
      "[nltk_data]   Package stopwords is already up-to-date!\n"
     ]
    }
   ],
   "source": [
    "nltk.download('stopwords')\n",
    "stop_words = stopwords.words(\"spanish\")"
   ]
  },
  {
   "cell_type": "code",
   "execution_count": 3,
   "metadata": {
    "scrolled": false
   },
   "outputs": [],
   "source": [
    "#read dataset from csv\n",
    "df = pd.read_csv('mattermost_etiquetado.csv')"
   ]
  },
  {
   "cell_type": "code",
   "execution_count": 4,
   "metadata": {},
   "outputs": [],
   "source": [
    "# change type to bianary\n",
    "df.loc[df[\"type\"]=='consulta',\"type\"]=0\n",
    "df.loc[df[\"type\"]=='reclamo',\"type\"]=1"
   ]
  },
  {
   "cell_type": "code",
   "execution_count": 5,
   "metadata": {},
   "outputs": [],
   "source": [
    "df_x = df[\"text\"]\n",
    "df_y = df[\"type\"]"
   ]
  },
  {
   "cell_type": "code",
   "execution_count": 6,
   "metadata": {
    "scrolled": true
   },
   "outputs": [
    {
     "name": "stdout",
     "output_type": "stream",
     "text": [
      "(0, \"percent of the messages are 'reclamos'.\")\n"
     ]
    }
   ],
   "source": [
    "#average of 'reclamos' versus 'consultas'\n",
    "reclamo_total = df_y.sum()\n",
    "total = df.type.count()\n",
    "average = reclamo_total / total\n",
    "print(average*100,\"percent of the messages are 'reclamos'.\")"
   ]
  },
  {
   "cell_type": "markdown",
   "metadata": {},
   "source": [
    "### If the percent of 'reclamos' is very low, this will cloud the accuracy of our classification accuracy calculator. For example, if the 'reclamo' percent is 10 percent, a dumb classifier, which predicts 'consulta' every time, would be 90 percent accurate. "
   ]
  },
  {
   "cell_type": "code",
   "execution_count": 7,
   "metadata": {},
   "outputs": [],
   "source": [
    "#split the data (this is a commonly used line of code)\n",
    "x_train, x_test, y_train, y_test = train_test_split(df_x, df_y, test_size=0.2, random_state=4)"
   ]
  },
  {
   "cell_type": "code",
   "execution_count": 8,
   "metadata": {},
   "outputs": [],
   "source": [
    "#for TYPE we need our bianary values to be integers\n",
    "y_train=y_train.astype('int')"
   ]
  },
  {
   "cell_type": "markdown",
   "metadata": {},
   "source": [
    "### Count Vectorizer"
   ]
  },
  {
   "cell_type": "code",
   "execution_count": 9,
   "metadata": {},
   "outputs": [],
   "source": [
    "cv = CountVectorizer()"
   ]
  },
  {
   "cell_type": "code",
   "execution_count": 10,
   "metadata": {},
   "outputs": [
    {
     "data": {
      "text/plain": [
       "<216x611 sparse matrix of type '<type 'numpy.int64'>'\n",
       "\twith 1895 stored elements in Compressed Sparse Row format>"
      ]
     },
     "execution_count": 10,
     "metadata": {},
     "output_type": "execute_result"
    }
   ],
   "source": [
    "x_traincv = cv.fit_transform(x_train)\n",
    "x_traincv"
   ]
  },
  {
   "cell_type": "code",
   "execution_count": 11,
   "metadata": {},
   "outputs": [
    {
     "data": {
      "text/plain": [
       "array([[0, 0, 0, ..., 0, 0, 0],\n",
       "       [0, 0, 0, ..., 0, 0, 0],\n",
       "       [0, 0, 0, ..., 0, 0, 0],\n",
       "       ..., \n",
       "       [0, 0, 0, ..., 0, 0, 0],\n",
       "       [0, 0, 0, ..., 0, 0, 0],\n",
       "       [0, 0, 0, ..., 0, 0, 0]])"
      ]
     },
     "execution_count": 11,
     "metadata": {},
     "output_type": "execute_result"
    }
   ],
   "source": [
    "arrai=x_traincv.toarray()\n",
    "arrai"
   ]
  },
  {
   "cell_type": "code",
   "execution_count": 12,
   "metadata": {
    "scrolled": false
   },
   "outputs": [],
   "source": [
    "#cv.get_feature_names()"
   ]
  },
  {
   "cell_type": "code",
   "execution_count": 13,
   "metadata": {},
   "outputs": [
    {
     "data": {
      "text/plain": [
       "[array([u'averiguar', u'quer\\xeda', u'seguro', u'un'],\n",
       "       dtype='<U15')]"
      ]
     },
     "execution_count": 13,
     "metadata": {},
     "output_type": "execute_result"
    }
   ],
   "source": [
    "cv.inverse_transform(arrai[0])"
   ]
  },
  {
   "cell_type": "code",
   "execution_count": 14,
   "metadata": {},
   "outputs": [
    {
     "data": {
      "text/plain": [
       "'Quer\\xc3\\xada averiguar x un seguro'"
      ]
     },
     "execution_count": 14,
     "metadata": {},
     "output_type": "execute_result"
    }
   ],
   "source": [
    "x_train.iloc[0]"
   ]
  },
  {
   "cell_type": "markdown",
   "metadata": {},
   "source": [
    "### Tfidf Vectorizer"
   ]
  },
  {
   "cell_type": "code",
   "execution_count": 15,
   "metadata": {
    "scrolled": true
   },
   "outputs": [],
   "source": [
    " tfidf_v= TfidfVectorizer(min_df=1,stop_words=stop_words)"
   ]
  },
  {
   "cell_type": "code",
   "execution_count": 16,
   "metadata": {},
   "outputs": [],
   "source": [
    "# for making our language based training data use \"fit_transform()\"\n",
    "x_train_tfidf= tfidf_v.fit_transform(x_train)"
   ]
  },
  {
   "cell_type": "code",
   "execution_count": 17,
   "metadata": {},
   "outputs": [
    {
     "data": {
      "text/plain": [
       "array([[ 0.,  0.,  0., ...,  0.,  0.,  0.],\n",
       "       [ 0.,  0.,  0., ...,  0.,  0.,  0.],\n",
       "       [ 0.,  0.,  0., ...,  0.,  0.,  0.],\n",
       "       ..., \n",
       "       [ 0.,  0.,  0., ...,  0.,  0.,  0.],\n",
       "       [ 0.,  0.,  0., ...,  0.,  0.,  0.],\n",
       "       [ 0.,  0.,  0., ...,  0.,  0.,  0.]])"
      ]
     },
     "execution_count": 17,
     "metadata": {},
     "output_type": "execute_result"
    }
   ],
   "source": [
    "arrai1 = x_train_tfidf.toarray()\n",
    "arrai1"
   ]
  },
  {
   "cell_type": "code",
   "execution_count": 18,
   "metadata": {
    "scrolled": true
   },
   "outputs": [
    {
     "data": {
      "text/plain": [
       "[u'100',\n",
       " u'11',\n",
       " u'19',\n",
       " u'1983',\n",
       " u'2008',\n",
       " u'2009',\n",
       " u'2011',\n",
       " u'351',\n",
       " u'3515069733',\n",
       " u'430000',\n",
       " u'506973',\n",
       " u'690',\n",
       " u'790',\n",
       " u'794',\n",
       " u'80',\n",
       " u'936',\n",
       " u'97',\n",
       " u'ab235',\n",
       " u'abonaba',\n",
       " u'abonar',\n",
       " u'aca',\n",
       " u'accidente',\n",
       " u'acercar',\n",
       " u'actu\\xf3',\n",
       " u'ac\\xe1',\n",
       " u'adem\\xe1s',\n",
       " u'adherirse',\n",
       " u'agradezco',\n",
       " u'aguardo',\n",
       " u'ahi',\n",
       " u'ahora',\n",
       " u'alberto',\n",
       " u'alguna',\n",
       " u'alta',\n",
       " u'andar',\n",
       " u'anterior',\n",
       " u'anulada',\n",
       " u'aparece',\n",
       " u'apenas',\n",
       " u'aproximadamente',\n",
       " u'aqui',\n",
       " u'arriba',\n",
       " u'as',\n",
       " u'asegurado',\n",
       " u'asegurar',\n",
       " u'asesoro',\n",
       " u'asi',\n",
       " u'assistance',\n",
       " u'as\\xed',\n",
       " u'atenci\\xf3n',\n",
       " u'atendian',\n",
       " u'atendieron',\n",
       " u'atras',\n",
       " u'atr\\xe1s',\n",
       " u'atte',\n",
       " u'aumentan',\n",
       " u'auto',\n",
       " u'automovil',\n",
       " u'autos',\n",
       " u'averiguar',\n",
       " u'avise',\n",
       " u'aviso',\n",
       " u'ayer',\n",
       " u'bersion',\n",
       " u'bertuccelli_edo',\n",
       " u'bicicletas',\n",
       " u'bien',\n",
       " u'boleta',\n",
       " u'bonito',\n",
       " u'boton',\n",
       " u'breve',\n",
       " u'brindar',\n",
       " u'bs',\n",
       " u'bsas',\n",
       " u'buen',\n",
       " u'buena',\n",
       " u'buenas',\n",
       " u'buenisimo',\n",
       " u'bueno',\n",
       " u'buenos',\n",
       " u'bustos',\n",
       " u'cabrera',\n",
       " u'camioneta',\n",
       " u'cancelar',\n",
       " u'carol',\n",
       " u'casa',\n",
       " u'categoria',\n",
       " u'cba',\n",
       " u'cbu',\n",
       " u'celular',\n",
       " u'centro',\n",
       " u'cerca',\n",
       " u'chiquita',\n",
       " u'choco',\n",
       " u'choc\\xf3',\n",
       " u'cliente',\n",
       " u'clio',\n",
       " u'cobertura',\n",
       " u'coberturas',\n",
       " u'cobrar',\n",
       " u'colaboraci\\xf3n',\n",
       " u'colonia',\n",
       " u'com',\n",
       " u'comparando',\n",
       " u'compa\\xf1\\xeda',\n",
       " u'completo',\n",
       " u'comprobante',\n",
       " u'comunicar',\n",
       " u'conocer',\n",
       " u'consiste',\n",
       " u'consulta',\n",
       " u'consultar',\n",
       " u'consultarle',\n",
       " u'contactarnos',\n",
       " u'contestar',\n",
       " u'contestaron',\n",
       " u'conteste',\n",
       " u'contratado',\n",
       " u'contratar',\n",
       " u'contratarlo',\n",
       " u'cont\\xe9',\n",
       " u'conveniente',\n",
       " u'cordoba',\n",
       " u'correo',\n",
       " u'cosa',\n",
       " u'cosas',\n",
       " u'costara',\n",
       " u'cotisaron',\n",
       " u'cotizacion',\n",
       " u'cotizaci\\xf3n',\n",
       " u'cotizar',\n",
       " u'cotizaron',\n",
       " u'cotizas',\n",
       " u'credito',\n",
       " u'creo',\n",
       " u'cuadras',\n",
       " u'cualquier',\n",
       " u'cuanto',\n",
       " u'cuarto',\n",
       " u'cuatrimestral',\n",
       " u'cubra',\n",
       " u'cubre',\n",
       " u'cuenta',\n",
       " u'cuentan',\n",
       " u'cuestiones',\n",
       " u'cuesti\\xf3n',\n",
       " u'cumplo',\n",
       " u'cuota',\n",
       " u'cupon',\n",
       " u'cup\\xf3n',\n",
       " u'cu\\xe1ndo',\n",
       " u'c\\xf3mo',\n",
       " u'dale',\n",
       " u'dan',\n",
       " u'dar',\n",
       " u'datos',\n",
       " u'day',\n",
       " u'deben',\n",
       " u'debo',\n",
       " u'decia',\n",
       " u'decime',\n",
       " u'decir',\n",
       " u'dec\\xeds',\n",
       " u'deja',\n",
       " u'deje',\n",
       " u'demora',\n",
       " u'den',\n",
       " u'denuncia',\n",
       " u'deseo',\n",
       " u'despu\\xe9s',\n",
       " u'detallaba',\n",
       " u'dia',\n",
       " u'dias',\n",
       " u'dice',\n",
       " u'dicho',\n",
       " u'diego',\n",
       " u'dieron',\n",
       " u'dijeron',\n",
       " u'direcci\\xf3n',\n",
       " u'documentacion',\n",
       " u'documento',\n",
       " u'documentos',\n",
       " u'domingo',\n",
       " u'due\\xf1o',\n",
       " u'd\\xe9bito',\n",
       " u'd\\xeda',\n",
       " u'd\\xedas',\n",
       " u'd\\xedganme',\n",
       " u'efectivamente',\n",
       " u'efectivo',\n",
       " u'eficientes',\n",
       " u'electr\\xf3nico',\n",
       " u'encanta',\n",
       " u'encima',\n",
       " u'entero',\n",
       " u'entiendo',\n",
       " u'envar\\xf3n',\n",
       " u'envia',\n",
       " u'envianos',\n",
       " u'enviar',\n",
       " u'enviarme',\n",
       " u'envio',\n",
       " u'env\\xedan',\n",
       " u'env\\xede',\n",
       " u'env\\xeden',\n",
       " u'env\\xedo',\n",
       " u'equivocaron',\n",
       " u'escribo',\n",
       " u'escudo',\n",
       " u'esperando',\n",
       " u'espero',\n",
       " u'estanciera',\n",
       " u'etc',\n",
       " u'excelente',\n",
       " u'extraordinarios',\n",
       " u'f100',\n",
       " u'facil',\n",
       " u'falcon',\n",
       " u'falta',\n",
       " u'favor',\n",
       " u'fe',\n",
       " u'fierro',\n",
       " u'flete',\n",
       " u'fmk',\n",
       " u'ford',\n",
       " u'forma',\n",
       " u'foto',\n",
       " u'fotos',\n",
       " u'fritas',\n",
       " u'genial',\n",
       " u'gnc',\n",
       " u'gol',\n",
       " u'graciaa',\n",
       " u'gracias',\n",
       " u'grupo',\n",
       " u'gr\\xfaa',\n",
       " u'guardado',\n",
       " u'guiar',\n",
       " u'gusto',\n",
       " u'haber',\n",
       " u'habian',\n",
       " u'hablaba',\n",
       " u'hace',\n",
       " u'hacer',\n",
       " u'hacerle',\n",
       " u'hago',\n",
       " u'haran',\n",
       " u'hecho',\n",
       " u'hice',\n",
       " u'hiper',\n",
       " u'hola',\n",
       " u'hora',\n",
       " u'horas',\n",
       " u'hotmail',\n",
       " u'hoy',\n",
       " u'hs',\n",
       " u'imagen',\n",
       " u'imprimir',\n",
       " u'inda',\n",
       " u'indicaron',\n",
       " u'info',\n",
       " u'informe',\n",
       " u'interesa',\n",
       " u'ir',\n",
       " u'ixc478',\n",
       " u'jajajajajaja',\n",
       " u'jer\\xf3nimo',\n",
       " u'julio',\n",
       " u'ka1',\n",
       " u'kilos',\n",
       " u'lancha',\n",
       " u'lanchas',\n",
       " u'levantado',\n",
       " u'libertad',\n",
       " u'liliana',\n",
       " u'line',\n",
       " u'link',\n",
       " u'listo',\n",
       " u'llamaron',\n",
       " u'llave',\n",
       " u'llego',\n",
       " u'localidad',\n",
       " u'lugar',\n",
       " u'luis',\n",
       " u'lujo',\n",
       " u'lunes',\n",
       " u'l\\xedder',\n",
       " u'mail',\n",
       " u'mandame',\n",
       " u'mandar',\n",
       " u'mandarme',\n",
       " u'mandaron',\n",
       " u'mande',\n",
       " u'marca',\n",
       " u'mariano',\n",
       " u'marido',\n",
       " u'mas',\n",
       " u'mascota',\n",
       " u'max',\n",
       " u'ma\\xf1ana',\n",
       " u'medios',\n",
       " u'mejor',\n",
       " u'menos',\n",
       " u'mensaje',\n",
       " u'mercado',\n",
       " u'mes',\n",
       " u'meses',\n",
       " u'mira',\n",
       " u'misma',\n",
       " u'mismo',\n",
       " u'mod',\n",
       " u'modelo',\n",
       " u'monto',\n",
       " u'muchas',\n",
       " u'natalia',\n",
       " u'necesitar\\xeda',\n",
       " u'necesito',\n",
       " u'necesit\\xf3',\n",
       " u'nesecito',\n",
       " u'ni\\xf1o',\n",
       " u'nomas',\n",
       " u'nombre',\n",
       " u'novedades',\n",
       " u'nueva',\n",
       " u'nuevamente',\n",
       " u'nuevo',\n",
       " u'numero',\n",
       " u'n\\xfamero',\n",
       " u'oficina',\n",
       " u'oficinas',\n",
       " u'oit199',\n",
       " u'ok',\n",
       " u'on',\n",
       " u'online',\n",
       " u'organizaci\\xf3n',\n",
       " u'pablo',\n",
       " u'pagar',\n",
       " u'pagarlo',\n",
       " u'pagina',\n",
       " u'pago',\n",
       " u'pagofacil',\n",
       " u'pagos',\n",
       " u'pague',\n",
       " u'papeles',\n",
       " u'parcial',\n",
       " u'parece',\n",
       " u'pareja',\n",
       " u'parese',\n",
       " u'parte',\n",
       " u'partir',\n",
       " u'pasa',\n",
       " u'pasar',\n",
       " u'pasaron',\n",
       " u'pasar\\xe9',\n",
       " u'pasas',\n",
       " u'pase',\n",
       " u'paso',\n",
       " u'patente',\n",
       " u'pego',\n",
       " u'pendiente',\n",
       " u'pense',\n",
       " u'perd\\xf3n',\n",
       " u'perfecto',\n",
       " u'permanentemente',\n",
       " u'personal',\n",
       " u'personales',\n",
       " u'personalmente',\n",
       " u'pe\\xf1a',\n",
       " u'pide',\n",
       " u'poder',\n",
       " u'podes',\n",
       " u'podrias',\n",
       " u'podr\\xe1',\n",
       " u'podr\\xedan',\n",
       " u'podr\\xedas',\n",
       " u'pod\\xeda',\n",
       " u'poliza',\n",
       " u'poner',\n",
       " u'pon\\xedan',\n",
       " u'porq',\n",
       " u'power',\n",
       " u'precio',\n",
       " u'precios',\n",
       " u'pregunta',\n",
       " u'premura',\n",
       " u'presentar',\n",
       " u'presentarla',\n",
       " u'primera',\n",
       " u'promo',\n",
       " u'promocion',\n",
       " u'prueba',\n",
       " u'pruebas',\n",
       " u'ptas',\n",
       " u'pude',\n",
       " u'pudieron',\n",
       " u'puede',\n",
       " u'pueden',\n",
       " u'puedo',\n",
       " u'puerta',\n",
       " u'pv',\n",
       " u'p\\xf3liza',\n",
       " u'quedan',\n",
       " u'quedaria',\n",
       " u'quedar\\xeda',\n",
       " u'queria',\n",
       " u'querian',\n",
       " u'quer\\xeda',\n",
       " u'quevedo',\n",
       " u'quiero',\n",
       " u'quisiera',\n",
       " u'radicado',\n",
       " u'rapipago',\n",
       " u'recibida',\n",
       " u'recibo',\n",
       " u'recien',\n",
       " u'reci\\xe9n',\n",
       " u'recuerden',\n",
       " u'regata',\n",
       " u'regiria',\n",
       " u'regla',\n",
       " u'remolque',\n",
       " u'renovaci\\xf3n',\n",
       " u'renovar',\n",
       " u'requisitos',\n",
       " u'resolv\\xed',\n",
       " u'respondemos',\n",
       " u'responder',\n",
       " u'respondo',\n",
       " u'responsable',\n",
       " u'respuesta',\n",
       " u'riesgo',\n",
       " u'rio',\n",
       " u'rivadavia',\n",
       " u'robo',\n",
       " u'rompi\\xf3',\n",
       " u'roque',\n",
       " u'ruta',\n",
       " u'sabatini',\n",
       " u'sabattini',\n",
       " u'saber',\n",
       " u'sabido',\n",
       " u'sale',\n",
       " u'salen',\n",
       " u'salir',\n",
       " u'sal\\xeda',\n",
       " u'sancor',\n",
       " u'sarsfield',\n",
       " u'saver',\n",
       " u'sector',\n",
       " u'segunda',\n",
       " u'seguro',\n",
       " u'seis',\n",
       " u'semana',\n",
       " u'ser',\n",
       " u'seria',\n",
       " u'servicio',\n",
       " u'servir',\n",
       " u'si',\n",
       " u'siempre',\n",
       " u'siquiera',\n",
       " u'solamente',\n",
       " u'solicitada',\n",
       " u'solicite',\n",
       " u'solo',\n",
       " u'solucionar',\n",
       " u'soporte',\n",
       " u'sr',\n",
       " u'sres',\n",
       " u'subo',\n",
       " u'sucursal',\n",
       " u'sucursales',\n",
       " u'super',\n",
       " u's\\xe1enz',\n",
       " u's\\xf3lo',\n",
       " u'tarde',\n",
       " u'tardes',\n",
       " u'tarjeta',\n",
       " u'tasaro',\n",
       " u'tel\\xe9fono',\n",
       " u'temita',\n",
       " u'ten\\xe9s',\n",
       " u'tercero',\n",
       " u'terceros',\n",
       " u'tirolesa',\n",
       " u'toco',\n",
       " u'todas',\n",
       " u'tomadas',\n",
       " u'tomar',\n",
       " u'total',\n",
       " u'trabajan',\n",
       " u'trabajo',\n",
       " u'tranqui',\n",
       " u'tratando',\n",
       " u'tr\\xe1mite',\n",
       " u'uh',\n",
       " u'unico',\n",
       " u'universal',\n",
       " u'urgente',\n",
       " u'usaba',\n",
       " u'ustedes',\n",
       " u'usuaruario',\n",
       " u'vacaciones',\n",
       " u'vajo',\n",
       " u'valor',\n",
       " u'veh\\xedculo',\n",
       " u'vence',\n",
       " u'venci\\xf3',\n",
       " u'veo',\n",
       " u'ver',\n",
       " u'verdad',\n",
       " u'verde',\n",
       " u'vergonzoso',\n",
       " u'verg\\xfcenza',\n",
       " u'verifico',\n",
       " u'viajar',\n",
       " u'viaje',\n",
       " u'vida',\n",
       " u'vidrio',\n",
       " u'viene',\n",
       " u'vieron',\n",
       " u'visitar',\n",
       " u'voleta',\n",
       " u'volver',\n",
       " u'voy',\n",
       " u'vw',\n",
       " u'v\\xe9lez',\n",
       " u'v\\xeda',\n",
       " u'web',\n",
       " u'whatsapp',\n",
       " u'xfa',\n",
       " u'xq']"
      ]
     },
     "execution_count": 18,
     "metadata": {},
     "output_type": "execute_result"
    }
   ],
   "source": [
    "#feature extraction of the data\n",
    "#tfidf_v.get_feature_names()"
   ]
  },
  {
   "cell_type": "code",
   "execution_count": 19,
   "metadata": {},
   "outputs": [
    {
     "data": {
      "text/plain": [
       "[array([u'averiguar', u'quer\\xeda', u'seguro'],\n",
       "       dtype='<U15')]"
      ]
     },
     "execution_count": 19,
     "metadata": {},
     "output_type": "execute_result"
    }
   ],
   "source": [
    "tfidf_v.inverse_transform(arrai1[0])"
   ]
  },
  {
   "cell_type": "code",
   "execution_count": 20,
   "metadata": {
    "scrolled": true
   },
   "outputs": [
    {
     "data": {
      "text/plain": [
       "'Quer\\xc3\\xada averiguar x un seguro'"
      ]
     },
     "execution_count": 20,
     "metadata": {},
     "output_type": "execute_result"
    }
   ],
   "source": [
    "x_train.iloc[0]"
   ]
  },
  {
   "cell_type": "markdown",
   "metadata": {},
   "source": [
    "### Multinomial Naive Bayes Classifier with Count Vectorizer"
   ]
  },
  {
   "cell_type": "code",
   "execution_count": 21,
   "metadata": {},
   "outputs": [],
   "source": [
    "#mnb=MultinomialNB()"
   ]
  },
  {
   "cell_type": "code",
   "execution_count": 22,
   "metadata": {},
   "outputs": [],
   "source": [
    "# for applying the Naive Bayes algorithm use \"fit()\" - this is the line where we are training our model\n",
    "mnb_trained = MultinomialNB().fit(x_traincv, y_train)"
   ]
  },
  {
   "cell_type": "code",
   "execution_count": 23,
   "metadata": {},
   "outputs": [],
   "source": [
    "# test data use \"transform()\"\n",
    "x_testcv = cv.transform(x_test)"
   ]
  },
  {
   "cell_type": "code",
   "execution_count": 24,
   "metadata": {
    "scrolled": true
   },
   "outputs": [
    {
     "data": {
      "text/plain": [
       "array([0, 0, 0, 0, 0, 0, 1, 0, 0, 0, 0, 0, 0, 0, 0, 0, 0, 0, 0, 0, 0, 0, 0,\n",
       "       0, 0, 0, 0, 0, 0, 0, 0, 0, 0, 1, 0, 0, 0, 0, 0, 0, 0, 0, 0, 0, 0, 0,\n",
       "       0, 0, 0, 0, 0, 0, 1, 0, 1])"
      ]
     },
     "execution_count": 24,
     "metadata": {},
     "output_type": "execute_result"
    }
   ],
   "source": [
    "#predictions\n",
    "pred = mnb_trained.predict(x_testcv)\n",
    "pred"
   ]
  },
  {
   "cell_type": "code",
   "execution_count": 25,
   "metadata": {},
   "outputs": [
    {
     "data": {
      "text/plain": [
       "array([0, 0, 0, 0, 0, 0, 0, 0, 1, 0, 0, 0, 0, 0, 1, 0, 0, 0, 0, 0, 0, 0, 0,\n",
       "       0, 0, 0, 0, 0, 1, 0, 0, 0, 0, 1, 0, 0, 0, 1, 0, 0, 0, 0, 1, 0, 0, 0,\n",
       "       0, 0, 0, 0, 0, 0, 1, 0, 1], dtype=object)"
      ]
     },
     "execution_count": 25,
     "metadata": {},
     "output_type": "execute_result"
    }
   ],
   "source": [
    "actual=np.array(y_test)\n",
    "actual"
   ]
  },
  {
   "cell_type": "code",
   "execution_count": 26,
   "metadata": {},
   "outputs": [
    {
     "name": "stdout",
     "output_type": "stream",
     "text": [
      "('We have', 49, 'correct predictions out of', 55, '.')\n",
      "('Total', 0, 'accuracy using Count Vectorizer.')\n"
     ]
    }
   ],
   "source": [
    "count=0\n",
    "for i in range (len(pred)):\n",
    "    if pred[i]==actual[i]:\n",
    "        count=count+1\n",
    "print(\"We have\",count,\"correct predictions out of\",len(pred),\".\")\n",
    "print(\"Total\",(count/len(pred))*100,\"accuracy using Count Vectorizer.\")"
   ]
  },
  {
   "cell_type": "code",
   "execution_count": 27,
   "metadata": {},
   "outputs": [],
   "source": [
    "messg = []\n",
    "for msg in x_test:\n",
    "    messg.append(msg)"
   ]
  },
  {
   "cell_type": "code",
   "execution_count": 28,
   "metadata": {},
   "outputs": [
    {
     "data": {
      "text/plain": [
       "55"
      ]
     },
     "execution_count": 28,
     "metadata": {},
     "output_type": "execute_result"
    }
   ],
   "source": [
    "count = 0\n",
    "predictions = []\n",
    "for x in pred:\n",
    "    count = count + 1\n",
    "    predictions.append(x)\n",
    "count"
   ]
  },
  {
   "cell_type": "code",
   "execution_count": 29,
   "metadata": {},
   "outputs": [],
   "source": [
    "original = []\n",
    "for i in y_test:\n",
    "    original.append(i)"
   ]
  },
  {
   "cell_type": "code",
   "execution_count": 30,
   "metadata": {
    "scrolled": true
   },
   "outputs": [
    {
     "data": {
      "text/html": [
       "<div>\n",
       "<style scoped>\n",
       "    .dataframe tbody tr th:only-of-type {\n",
       "        vertical-align: middle;\n",
       "    }\n",
       "\n",
       "    .dataframe tbody tr th {\n",
       "        vertical-align: top;\n",
       "    }\n",
       "\n",
       "    .dataframe thead th {\n",
       "        text-align: right;\n",
       "    }\n",
       "</style>\n",
       "<table border=\"1\" class=\"dataframe\">\n",
       "  <thead>\n",
       "    <tr style=\"text-align: right;\">\n",
       "      <th></th>\n",
       "      <th>ML_PREDICT</th>\n",
       "      <th>ORIGINAL_TYPE</th>\n",
       "      <th>TEXT</th>\n",
       "    </tr>\n",
       "  </thead>\n",
       "  <tbody>\n",
       "    <tr>\n",
       "      <th>0</th>\n",
       "      <td>0</td>\n",
       "      <td>0</td>\n",
       "      <td>Y en SanCor?</td>\n",
       "    </tr>\n",
       "    <tr>\n",
       "      <th>1</th>\n",
       "      <td>0</td>\n",
       "      <td>0</td>\n",
       "      <td>gracias</td>\n",
       "    </tr>\n",
       "    <tr>\n",
       "      <th>2</th>\n",
       "      <td>0</td>\n",
       "      <td>0</td>\n",
       "      <td>Me podes  confirmar si voy a poderlo hacer?</td>\n",
       "    </tr>\n",
       "    <tr>\n",
       "      <th>3</th>\n",
       "      <td>0</td>\n",
       "      <td>0</td>\n",
       "      <td>Quería consultar sobre un seguro de accidente ...</td>\n",
       "    </tr>\n",
       "    <tr>\n",
       "      <th>4</th>\n",
       "      <td>0</td>\n",
       "      <td>0</td>\n",
       "      <td>Tengo un auto Ford falcon modelo 1983 y quería...</td>\n",
       "    </tr>\n",
       "    <tr>\n",
       "      <th>5</th>\n",
       "      <td>0</td>\n",
       "      <td>0</td>\n",
       "      <td>Me llamo Natalia</td>\n",
       "    </tr>\n",
       "    <tr>\n",
       "      <th>6</th>\n",
       "      <td>1</td>\n",
       "      <td>0</td>\n",
       "      <td>pense q seria 690 el valor de la cuota</td>\n",
       "    </tr>\n",
       "    <tr>\n",
       "      <th>7</th>\n",
       "      <td>0</td>\n",
       "      <td>0</td>\n",
       "      <td>Toco el boton donde dice otros medios de pagos...</td>\n",
       "    </tr>\n",
       "    <tr>\n",
       "      <th>8</th>\n",
       "      <td>0</td>\n",
       "      <td>1</td>\n",
       "      <td>Gente necesitamos ayuda</td>\n",
       "    </tr>\n",
       "    <tr>\n",
       "      <th>9</th>\n",
       "      <td>0</td>\n",
       "      <td>0</td>\n",
       "      <td>y asi como yo estoy interviniendo, también pod...</td>\n",
       "    </tr>\n",
       "    <tr>\n",
       "      <th>10</th>\n",
       "      <td>0</td>\n",
       "      <td>0</td>\n",
       "      <td>Hola soy un cliente o posible cliente</td>\n",
       "    </tr>\n",
       "    <tr>\n",
       "      <th>11</th>\n",
       "      <td>0</td>\n",
       "      <td>0</td>\n",
       "      <td>Yo tenía con ustedes pero se me venció la poliza</td>\n",
       "    </tr>\n",
       "    <tr>\n",
       "      <th>12</th>\n",
       "      <td>0</td>\n",
       "      <td>0</td>\n",
       "      <td>Mandame una foto de tu auto</td>\n",
       "    </tr>\n",
       "    <tr>\n",
       "      <th>13</th>\n",
       "      <td>0</td>\n",
       "      <td>0</td>\n",
       "      <td>Me podrían decir cómo hago para cambiar eso</td>\n",
       "    </tr>\n",
       "    <tr>\n",
       "      <th>14</th>\n",
       "      <td>0</td>\n",
       "      <td>1</td>\n",
       "      <td>Disculpa la insistencia salgo a las cuatro del...</td>\n",
       "    </tr>\n",
       "    <tr>\n",
       "      <th>15</th>\n",
       "      <td>0</td>\n",
       "      <td>0</td>\n",
       "      <td>Me lo piden de mi seguro x favor</td>\n",
       "    </tr>\n",
       "    <tr>\n",
       "      <th>16</th>\n",
       "      <td>0</td>\n",
       "      <td>0</td>\n",
       "      <td>pasame una bandera</td>\n",
       "    </tr>\n",
       "    <tr>\n",
       "      <th>17</th>\n",
       "      <td>0</td>\n",
       "      <td>0</td>\n",
       "      <td>Necesito que me den el link de pago de mí auto</td>\n",
       "    </tr>\n",
       "    <tr>\n",
       "      <th>18</th>\n",
       "      <td>0</td>\n",
       "      <td>0</td>\n",
       "      <td>Te consulto</td>\n",
       "    </tr>\n",
       "    <tr>\n",
       "      <th>19</th>\n",
       "      <td>0</td>\n",
       "      <td>0</td>\n",
       "      <td>además necesitaría una copia de la poliza</td>\n",
       "    </tr>\n",
       "    <tr>\n",
       "      <th>20</th>\n",
       "      <td>0</td>\n",
       "      <td>0</td>\n",
       "      <td>una pregunta sale los datos x q la  caminera t...</td>\n",
       "    </tr>\n",
       "    <tr>\n",
       "      <th>21</th>\n",
       "      <td>0</td>\n",
       "      <td>0</td>\n",
       "      <td>Yo tenía con ustedes pero se me venció la poliza</td>\n",
       "    </tr>\n",
       "    <tr>\n",
       "      <th>22</th>\n",
       "      <td>0</td>\n",
       "      <td>0</td>\n",
       "      <td>Por favor  necesito pagar la voleta estoy en B...</td>\n",
       "    </tr>\n",
       "    <tr>\n",
       "      <th>23</th>\n",
       "      <td>0</td>\n",
       "      <td>0</td>\n",
       "      <td>Necesitó la boleta para poder pagar mi seguro....</td>\n",
       "    </tr>\n",
       "    <tr>\n",
       "      <th>24</th>\n",
       "      <td>0</td>\n",
       "      <td>0</td>\n",
       "      <td>Como hacemos te paso los datos o foto de la ta...</td>\n",
       "    </tr>\n",
       "    <tr>\n",
       "      <th>25</th>\n",
       "      <td>0</td>\n",
       "      <td>0</td>\n",
       "      <td>no me estaria respondiendo</td>\n",
       "    </tr>\n",
       "    <tr>\n",
       "      <th>26</th>\n",
       "      <td>0</td>\n",
       "      <td>0</td>\n",
       "      <td>Genial</td>\n",
       "    </tr>\n",
       "    <tr>\n",
       "      <th>27</th>\n",
       "      <td>0</td>\n",
       "      <td>0</td>\n",
       "      <td>O sea que me cubre</td>\n",
       "    </tr>\n",
       "    <tr>\n",
       "      <th>28</th>\n",
       "      <td>0</td>\n",
       "      <td>1</td>\n",
       "      <td>No llegó nada aún</td>\n",
       "    </tr>\n",
       "    <tr>\n",
       "      <th>29</th>\n",
       "      <td>0</td>\n",
       "      <td>0</td>\n",
       "      <td>es lo que me habian dicho</td>\n",
       "    </tr>\n",
       "    <tr>\n",
       "      <th>30</th>\n",
       "      <td>0</td>\n",
       "      <td>0</td>\n",
       "      <td>El evento ocurrió el 23, no el 24, como reza l...</td>\n",
       "    </tr>\n",
       "    <tr>\n",
       "      <th>31</th>\n",
       "      <td>0</td>\n",
       "      <td>0</td>\n",
       "      <td>perdon, el costo cual seria al final, el que m...</td>\n",
       "    </tr>\n",
       "    <tr>\n",
       "      <th>32</th>\n",
       "      <td>0</td>\n",
       "      <td>0</td>\n",
       "      <td>Cuando me decís cuatrimestral es porque aument...</td>\n",
       "    </tr>\n",
       "    <tr>\n",
       "      <th>33</th>\n",
       "      <td>1</td>\n",
       "      <td>1</td>\n",
       "      <td>Me podes responder</td>\n",
       "    </tr>\n",
       "    <tr>\n",
       "      <th>34</th>\n",
       "      <td>0</td>\n",
       "      <td>0</td>\n",
       "      <td>Es saber si podía hacer de nuevo el seguro</td>\n",
       "    </tr>\n",
       "    <tr>\n",
       "      <th>35</th>\n",
       "      <td>0</td>\n",
       "      <td>0</td>\n",
       "      <td>Tranqui chiquita nomas</td>\n",
       "    </tr>\n",
       "    <tr>\n",
       "      <th>36</th>\n",
       "      <td>0</td>\n",
       "      <td>0</td>\n",
       "      <td>que necesita?</td>\n",
       "    </tr>\n",
       "    <tr>\n",
       "      <th>37</th>\n",
       "      <td>0</td>\n",
       "      <td>1</td>\n",
       "      <td>Muy irresponsables.. hoy mismo doy de baja el ...</td>\n",
       "    </tr>\n",
       "    <tr>\n",
       "      <th>38</th>\n",
       "      <td>0</td>\n",
       "      <td>0</td>\n",
       "      <td>Quería averiguar x un seguro</td>\n",
       "    </tr>\n",
       "    <tr>\n",
       "      <th>39</th>\n",
       "      <td>0</td>\n",
       "      <td>0</td>\n",
       "      <td>Y en SanCor?</td>\n",
       "    </tr>\n",
       "    <tr>\n",
       "      <th>40</th>\n",
       "      <td>0</td>\n",
       "      <td>0</td>\n",
       "      <td>Esa me interesa</td>\n",
       "    </tr>\n",
       "    <tr>\n",
       "      <th>41</th>\n",
       "      <td>0</td>\n",
       "      <td>0</td>\n",
       "      <td>Sin gnc</td>\n",
       "    </tr>\n",
       "    <tr>\n",
       "      <th>42</th>\n",
       "      <td>0</td>\n",
       "      <td>1</td>\n",
       "      <td>Como puedo dar de baja mi seguro?</td>\n",
       "    </tr>\n",
       "    <tr>\n",
       "      <th>43</th>\n",
       "      <td>0</td>\n",
       "      <td>0</td>\n",
       "      <td>como te va?</td>\n",
       "    </tr>\n",
       "    <tr>\n",
       "      <th>44</th>\n",
       "      <td>0</td>\n",
       "      <td>0</td>\n",
       "      <td>Hola buen dia podrían mandarme la voleta de es...</td>\n",
       "    </tr>\n",
       "    <tr>\n",
       "      <th>45</th>\n",
       "      <td>0</td>\n",
       "      <td>0</td>\n",
       "      <td>Hola buen dia podrían mandarme la voleta de es...</td>\n",
       "    </tr>\n",
       "    <tr>\n",
       "      <th>46</th>\n",
       "      <td>0</td>\n",
       "      <td>0</td>\n",
       "      <td>Así que decime a quien le llevo la boleta para...</td>\n",
       "    </tr>\n",
       "    <tr>\n",
       "      <th>47</th>\n",
       "      <td>0</td>\n",
       "      <td>0</td>\n",
       "      <td>Hola buen dia podrían mandarme la voleta de es...</td>\n",
       "    </tr>\n",
       "    <tr>\n",
       "      <th>48</th>\n",
       "      <td>0</td>\n",
       "      <td>0</td>\n",
       "      <td>Hay alguna sucursal para abonar hoy día??</td>\n",
       "    </tr>\n",
       "    <tr>\n",
       "      <th>49</th>\n",
       "      <td>0</td>\n",
       "      <td>0</td>\n",
       "      <td>muchas gracias por su consulta</td>\n",
       "    </tr>\n",
       "    <tr>\n",
       "      <th>50</th>\n",
       "      <td>0</td>\n",
       "      <td>0</td>\n",
       "      <td>A ver coméntame precio cobertura etc</td>\n",
       "    </tr>\n",
       "    <tr>\n",
       "      <th>51</th>\n",
       "      <td>0</td>\n",
       "      <td>0</td>\n",
       "      <td>Te doy un numero x q me estoy quedando sin bat...</td>\n",
       "    </tr>\n",
       "    <tr>\n",
       "      <th>52</th>\n",
       "      <td>1</td>\n",
       "      <td>1</td>\n",
       "      <td>No viene la grúa todavía</td>\n",
       "    </tr>\n",
       "    <tr>\n",
       "      <th>53</th>\n",
       "      <td>0</td>\n",
       "      <td>0</td>\n",
       "      <td>Quiero asegurar mi vehículo</td>\n",
       "    </tr>\n",
       "    <tr>\n",
       "      <th>54</th>\n",
       "      <td>1</td>\n",
       "      <td>1</td>\n",
       "      <td>Ya pasaron 2 horas</td>\n",
       "    </tr>\n",
       "  </tbody>\n",
       "</table>\n",
       "</div>"
      ],
      "text/plain": [
       "    ML_PREDICT  ORIGINAL_TYPE  \\\n",
       "0            0              0   \n",
       "1            0              0   \n",
       "2            0              0   \n",
       "3            0              0   \n",
       "4            0              0   \n",
       "5            0              0   \n",
       "6            1              0   \n",
       "7            0              0   \n",
       "8            0              1   \n",
       "9            0              0   \n",
       "10           0              0   \n",
       "11           0              0   \n",
       "12           0              0   \n",
       "13           0              0   \n",
       "14           0              1   \n",
       "15           0              0   \n",
       "16           0              0   \n",
       "17           0              0   \n",
       "18           0              0   \n",
       "19           0              0   \n",
       "20           0              0   \n",
       "21           0              0   \n",
       "22           0              0   \n",
       "23           0              0   \n",
       "24           0              0   \n",
       "25           0              0   \n",
       "26           0              0   \n",
       "27           0              0   \n",
       "28           0              1   \n",
       "29           0              0   \n",
       "30           0              0   \n",
       "31           0              0   \n",
       "32           0              0   \n",
       "33           1              1   \n",
       "34           0              0   \n",
       "35           0              0   \n",
       "36           0              0   \n",
       "37           0              1   \n",
       "38           0              0   \n",
       "39           0              0   \n",
       "40           0              0   \n",
       "41           0              0   \n",
       "42           0              1   \n",
       "43           0              0   \n",
       "44           0              0   \n",
       "45           0              0   \n",
       "46           0              0   \n",
       "47           0              0   \n",
       "48           0              0   \n",
       "49           0              0   \n",
       "50           0              0   \n",
       "51           0              0   \n",
       "52           1              1   \n",
       "53           0              0   \n",
       "54           1              1   \n",
       "\n",
       "                                                 TEXT  \n",
       "0                                        Y en SanCor?  \n",
       "1                                             gracias  \n",
       "2         Me podes  confirmar si voy a poderlo hacer?  \n",
       "3   Quería consultar sobre un seguro de accidente ...  \n",
       "4   Tengo un auto Ford falcon modelo 1983 y quería...  \n",
       "5                                    Me llamo Natalia  \n",
       "6              pense q seria 690 el valor de la cuota  \n",
       "7   Toco el boton donde dice otros medios de pagos...  \n",
       "8                             Gente necesitamos ayuda  \n",
       "9   y asi como yo estoy interviniendo, también pod...  \n",
       "10              Hola soy un cliente o posible cliente  \n",
       "11   Yo tenía con ustedes pero se me venció la poliza  \n",
       "12                        Mandame una foto de tu auto  \n",
       "13        Me podrían decir cómo hago para cambiar eso  \n",
       "14  Disculpa la insistencia salgo a las cuatro del...  \n",
       "15                   Me lo piden de mi seguro x favor  \n",
       "16                                 pasame una bandera  \n",
       "17     Necesito que me den el link de pago de mí auto  \n",
       "18                                        Te consulto  \n",
       "19          además necesitaría una copia de la poliza  \n",
       "20  una pregunta sale los datos x q la  caminera t...  \n",
       "21   Yo tenía con ustedes pero se me venció la poliza  \n",
       "22  Por favor  necesito pagar la voleta estoy en B...  \n",
       "23  Necesitó la boleta para poder pagar mi seguro....  \n",
       "24  Como hacemos te paso los datos o foto de la ta...  \n",
       "25                         no me estaria respondiendo  \n",
       "26                                             Genial  \n",
       "27                                 O sea que me cubre  \n",
       "28                                  No llegó nada aún  \n",
       "29                          es lo que me habian dicho  \n",
       "30  El evento ocurrió el 23, no el 24, como reza l...  \n",
       "31  perdon, el costo cual seria al final, el que m...  \n",
       "32  Cuando me decís cuatrimestral es porque aument...  \n",
       "33                                 Me podes responder  \n",
       "34         Es saber si podía hacer de nuevo el seguro  \n",
       "35                             Tranqui chiquita nomas  \n",
       "36                                      que necesita?  \n",
       "37  Muy irresponsables.. hoy mismo doy de baja el ...  \n",
       "38                       Quería averiguar x un seguro  \n",
       "39                                       Y en SanCor?  \n",
       "40                                    Esa me interesa  \n",
       "41                                            Sin gnc  \n",
       "42                  Como puedo dar de baja mi seguro?  \n",
       "43                                        como te va?  \n",
       "44  Hola buen dia podrían mandarme la voleta de es...  \n",
       "45  Hola buen dia podrían mandarme la voleta de es...  \n",
       "46  Así que decime a quien le llevo la boleta para...  \n",
       "47  Hola buen dia podrían mandarme la voleta de es...  \n",
       "48          Hay alguna sucursal para abonar hoy día??  \n",
       "49                     muchas gracias por su consulta  \n",
       "50               A ver coméntame precio cobertura etc  \n",
       "51  Te doy un numero x q me estoy quedando sin bat...  \n",
       "52                           No viene la grúa todavía  \n",
       "53                        Quiero asegurar mi vehículo  \n",
       "54                                 Ya pasaron 2 horas  "
      ]
     },
     "execution_count": 30,
     "metadata": {},
     "output_type": "execute_result"
    }
   ],
   "source": [
    "# this is the Original, hand labeled data\n",
    "dataf = pd.DataFrame({'ORIGINAL_TYPE' : original,\n",
    "                      'ML_PREDICT' : predictions,\n",
    "                     'TEXT' : messg})\n",
    "dataf"
   ]
  },
  {
   "cell_type": "markdown",
   "metadata": {},
   "source": [
    "### Multinomial Naive Bayes Classifier with TFIDF Vectorizer"
   ]
  },
  {
   "cell_type": "code",
   "execution_count": 33,
   "metadata": {},
   "outputs": [
    {
     "data": {
      "text/plain": [
       "MultinomialNB(alpha=1.0, class_prior=None, fit_prior=True)"
      ]
     },
     "execution_count": 33,
     "metadata": {},
     "output_type": "execute_result"
    }
   ],
   "source": [
    "mnb = MultinomialNB().fit(x_traincv, y_train)\n",
    "mnb.fit(x_train_tfidf, y_train)"
   ]
  },
  {
   "cell_type": "code",
   "execution_count": 34,
   "metadata": {},
   "outputs": [],
   "source": [
    "x_test_tfidf = tfidf_v.transform(x_test)"
   ]
  },
  {
   "cell_type": "code",
   "execution_count": 35,
   "metadata": {},
   "outputs": [
    {
     "data": {
      "text/plain": [
       "array([0, 0, 0, 0, 0, 0, 0, 0, 0, 0, 0, 0, 0, 0, 0, 0, 0, 0, 0, 0, 0, 0, 0,\n",
       "       0, 0, 0, 0, 0, 0, 0, 0, 0, 0, 0, 0, 0, 0, 0, 0, 0, 0, 0, 0, 0, 0, 0,\n",
       "       0, 0, 0, 0, 0, 0, 0, 0, 0])"
      ]
     },
     "execution_count": 35,
     "metadata": {},
     "output_type": "execute_result"
    }
   ],
   "source": [
    "pred1 = mnb.predict(x_test_tfidf)\n",
    "pred1"
   ]
  },
  {
   "cell_type": "code",
   "execution_count": 36,
   "metadata": {},
   "outputs": [
    {
     "data": {
      "text/plain": [
       "array([0, 0, 0, 0, 0, 0, 0, 0, 1, 0, 0, 0, 0, 0, 1, 0, 0, 0, 0, 0, 0, 0, 0,\n",
       "       0, 0, 0, 0, 0, 1, 0, 0, 0, 0, 1, 0, 0, 0, 1, 0, 0, 0, 0, 1, 0, 0, 0,\n",
       "       0, 0, 0, 0, 0, 0, 1, 0, 1], dtype=object)"
      ]
     },
     "execution_count": 36,
     "metadata": {},
     "output_type": "execute_result"
    }
   ],
   "source": [
    "actual1=np.array(y_test)\n",
    "actual1"
   ]
  },
  {
   "cell_type": "code",
   "execution_count": 37,
   "metadata": {},
   "outputs": [
    {
     "name": "stdout",
     "output_type": "stream",
     "text": [
      "('We have', 47, 'correct predictions out of', 55, '.')\n",
      "('Total', 0, 'accuracy using Tfidf Vectorizer')\n"
     ]
    }
   ],
   "source": [
    "count1=0\n",
    "for i in range (len(pred1)):\n",
    "    if pred1[i]==actual1[i]:\n",
    "        count1=count1+1\n",
    "print(\"We have\",count1,\"correct predictions out of\",len(pred1),\".\")\n",
    "print(\"Total\",(count1/len(pred1))*100,\"accuracy using Tfidf Vectorizer\")"
   ]
  },
  {
   "cell_type": "markdown",
   "metadata": {},
   "source": [
    "### Bernoulli-Naive Bayes Classifier "
   ]
  },
  {
   "cell_type": "code",
   "execution_count": null,
   "metadata": {},
   "outputs": [],
   "source": [
    "from sklearn.naive_bayes import BernoulliNB"
   ]
  },
  {
   "cell_type": "code",
   "execution_count": null,
   "metadata": {},
   "outputs": [],
   "source": [
    "bnb=BernoulliNB()"
   ]
  },
  {
   "cell_type": "code",
   "execution_count": null,
   "metadata": {},
   "outputs": [],
   "source": [
    "# for applying the Naive Bayes algorithm use \"fit()\"\n",
    "bnb.fit(x_traincv, y_train)"
   ]
  },
  {
   "cell_type": "code",
   "execution_count": null,
   "metadata": {},
   "outputs": [],
   "source": [
    "# test data use \"transform()\"\n",
    "x_testcv = cv.transform(x_test)"
   ]
  },
  {
   "cell_type": "code",
   "execution_count": null,
   "metadata": {},
   "outputs": [],
   "source": [
    "#predictions\n",
    "pred = bnb.predict(x_testcv)\n",
    "pred"
   ]
  },
  {
   "cell_type": "code",
   "execution_count": null,
   "metadata": {},
   "outputs": [],
   "source": [
    "actual=np.array(y_test)\n",
    "actual"
   ]
  },
  {
   "cell_type": "code",
   "execution_count": null,
   "metadata": {},
   "outputs": [],
   "source": [
    "count=0\n",
    "for i in range (len(pred)):\n",
    "    if pred[i]==actual[i]:\n",
    "        count=count+1\n",
    "print(\"We have\",count,\"correct predictions out of\",len(pred),\".\")\n",
    "print(\"Total\",(count/len(pred))*100,\"accuracy.\")"
   ]
  },
  {
   "cell_type": "markdown",
   "metadata": {},
   "source": [
    "### Gaussian-Naive Bayes Classifier"
   ]
  },
  {
   "cell_type": "code",
   "execution_count": null,
   "metadata": {},
   "outputs": [],
   "source": [
    "from sklearn.naive_bayes import GaussianNB"
   ]
  },
  {
   "cell_type": "code",
   "execution_count": null,
   "metadata": {},
   "outputs": [],
   "source": [
    "gnb=GaussianNB()"
   ]
  },
  {
   "cell_type": "code",
   "execution_count": null,
   "metadata": {},
   "outputs": [],
   "source": [
    "# for applying the Naive Bayes algorithm use \"fit()\"\n",
    "dense_x_traincv = x_traincv.toarray()\n",
    "gnb.fit(dense_x_traincv, y_train)"
   ]
  },
  {
   "cell_type": "code",
   "execution_count": null,
   "metadata": {},
   "outputs": [],
   "source": [
    "# test data use \"transform()\"\n",
    "x_testcv = cv.transform(x_test)"
   ]
  },
  {
   "cell_type": "code",
   "execution_count": null,
   "metadata": {},
   "outputs": [],
   "source": [
    "#predictions\n",
    "dense_x_testcv = x_testcv.toarray()\n",
    "pred = gnb.predict(dense_x_testcv)\n",
    "pred"
   ]
  },
  {
   "cell_type": "code",
   "execution_count": null,
   "metadata": {},
   "outputs": [],
   "source": [
    "actual=np.array(y_test)\n",
    "actual"
   ]
  },
  {
   "cell_type": "code",
   "execution_count": null,
   "metadata": {},
   "outputs": [],
   "source": [
    "count=0\n",
    "for i in range (len(pred)):\n",
    "    if pred[i]==actual[i]:\n",
    "        count=count+1\n",
    "print(\"We have\",count,\"correct predictions out of\",len(pred),\".\")\n",
    "print(\"Total\",(count/len(pred))*100,\"accuracy.\")"
   ]
  },
  {
   "cell_type": "markdown",
   "metadata": {},
   "source": [
    "### Logistic Regression Classifier"
   ]
  },
  {
   "cell_type": "code",
   "execution_count": null,
   "metadata": {},
   "outputs": [],
   "source": [
    "from sklearn.linear_model import LogisticRegression"
   ]
  },
  {
   "cell_type": "code",
   "execution_count": null,
   "metadata": {},
   "outputs": [],
   "source": [
    "lr_classifier=LogisticRegression()"
   ]
  },
  {
   "cell_type": "code",
   "execution_count": null,
   "metadata": {},
   "outputs": [],
   "source": [
    "# for applying the Naive Bayes algorithm use \"fit()\"\n",
    "dense_x_traincv = x_traincv.toarray()\n",
    "lr_classifier.fit(dense_x_traincv, y_train)"
   ]
  },
  {
   "cell_type": "code",
   "execution_count": null,
   "metadata": {},
   "outputs": [],
   "source": [
    "# test data use \"transform()\"\n",
    "x_testcv = cv.transform(x_test)"
   ]
  },
  {
   "cell_type": "code",
   "execution_count": null,
   "metadata": {},
   "outputs": [],
   "source": [
    "#predictions\n",
    "dense_x_testcv = x_testcv.toarray()\n",
    "pred = lr_classifier.predict(dense_x_testcv)\n",
    "pred"
   ]
  },
  {
   "cell_type": "code",
   "execution_count": null,
   "metadata": {},
   "outputs": [],
   "source": [
    "actual=np.array(y_test)\n",
    "actual"
   ]
  },
  {
   "cell_type": "code",
   "execution_count": null,
   "metadata": {},
   "outputs": [],
   "source": [
    "count=0\n",
    "for i in range (len(pred)):\n",
    "    if pred[i]==actual[i]:\n",
    "        count=count+1\n",
    "print(\"We have\",count,\"correct predictions out of\",len(pred),\".\")\n",
    "print(\"Total\",(count/len(pred))*100,\"accuracy.\")"
   ]
  },
  {
   "cell_type": "markdown",
   "metadata": {},
   "source": [
    "### Stochastic Gradient Descent (SGD) Classifier"
   ]
  },
  {
   "cell_type": "code",
   "execution_count": null,
   "metadata": {},
   "outputs": [],
   "source": [
    "from sklearn.linear_model import SGDClassifier"
   ]
  },
  {
   "cell_type": "code",
   "execution_count": null,
   "metadata": {},
   "outputs": [],
   "source": [
    "sgd_classifier=SGDClassifier()"
   ]
  },
  {
   "cell_type": "code",
   "execution_count": null,
   "metadata": {},
   "outputs": [],
   "source": [
    "# for applying the Naive Bayes algorithm use \"fit()\"\n",
    "#dense_x_traincv = x_traincv.toarray()\n",
    "sgd_classifier.fit(x_traincv, y_train)"
   ]
  },
  {
   "cell_type": "code",
   "execution_count": null,
   "metadata": {},
   "outputs": [],
   "source": [
    "# test data use \"transform()\"\n",
    "x_testcv = cv.transform(x_test)"
   ]
  },
  {
   "cell_type": "code",
   "execution_count": null,
   "metadata": {},
   "outputs": [],
   "source": [
    "#predictions\n",
    "#dense_x_testcv = x_testcv.toarray()\n",
    "pred = sgd_classifier.predict(x_testcv)\n",
    "pred"
   ]
  },
  {
   "cell_type": "code",
   "execution_count": null,
   "metadata": {},
   "outputs": [],
   "source": [
    "actual=np.array(y_test)\n",
    "actual"
   ]
  },
  {
   "cell_type": "code",
   "execution_count": null,
   "metadata": {},
   "outputs": [],
   "source": [
    "count=0\n",
    "for i in range (len(pred)):\n",
    "    if pred[i]==actual[i]:\n",
    "        count=count+1\n",
    "print(\"We have\",count,\"correct predictions out of\",len(pred),\".\")\n",
    "print(\"Total\",(count/len(pred))*100,\"accuracy.\")"
   ]
  },
  {
   "cell_type": "markdown",
   "metadata": {},
   "source": [
    "### Support Vector Classification (three types)"
   ]
  },
  {
   "cell_type": "code",
   "execution_count": null,
   "metadata": {},
   "outputs": [],
   "source": [
    "from sklearn.svm import SVC"
   ]
  },
  {
   "cell_type": "code",
   "execution_count": null,
   "metadata": {},
   "outputs": [],
   "source": [
    "svc_classifier=SVC()"
   ]
  },
  {
   "cell_type": "code",
   "execution_count": null,
   "metadata": {},
   "outputs": [],
   "source": [
    "svc_classifier.fit(x_traincv, y_train)\n",
    "# test data use \"transform()\"\n",
    "x_testcv = cv.transform(x_test)\n",
    "#predictions\n",
    "pred = svc_classifier.predict(x_testcv)\n",
    "pred"
   ]
  },
  {
   "cell_type": "code",
   "execution_count": null,
   "metadata": {},
   "outputs": [],
   "source": [
    "#actual\n",
    "actual=np.array(y_test)\n",
    "actual"
   ]
  },
  {
   "cell_type": "code",
   "execution_count": null,
   "metadata": {},
   "outputs": [],
   "source": [
    "count=0\n",
    "for i in range (len(pred)):\n",
    "    if pred[i]==actual[i]:\n",
    "        count=count+1\n",
    "print(\"We have\",count,\"correct predictions out of\",len(pred),\".\")\n",
    "print(\"Total\",(count/len(pred))*100,\"percent accuracy.\")"
   ]
  },
  {
   "cell_type": "markdown",
   "metadata": {},
   "source": [
    "### Linear Support Vector Classifier"
   ]
  },
  {
   "cell_type": "code",
   "execution_count": null,
   "metadata": {},
   "outputs": [],
   "source": [
    "from sklearn.svm import LinearSVC"
   ]
  },
  {
   "cell_type": "code",
   "execution_count": null,
   "metadata": {},
   "outputs": [],
   "source": [
    "linear_svc_classifier=LinearSVC()"
   ]
  },
  {
   "cell_type": "code",
   "execution_count": null,
   "metadata": {},
   "outputs": [],
   "source": [
    "linear_svc_classifier.fit(x_traincv, y_train)\n",
    "# test data use \"transform()\"\n",
    "x_testcv = cv.transform(x_test)\n",
    "#predictions\n",
    "pred = linear_svc_classifier.predict(x_testcv)\n",
    "pred"
   ]
  },
  {
   "cell_type": "code",
   "execution_count": null,
   "metadata": {},
   "outputs": [],
   "source": [
    "#actual\n",
    "actual = np.array(y_test)\n",
    "actual"
   ]
  },
  {
   "cell_type": "code",
   "execution_count": null,
   "metadata": {},
   "outputs": [],
   "source": [
    "count=0\n",
    "for i in range (len(pred)):\n",
    "    if pred[i]==actual[i]:\n",
    "        count=count+1\n",
    "print(\"We have\",count,\"correct predictions out of\",len(pred),\".\")\n",
    "print(\"Total\",(count/len(pred))*100,\"percent accuracy.\")"
   ]
  },
  {
   "cell_type": "markdown",
   "metadata": {},
   "source": [
    "### Support Vector Classifier w/ control of the number of support vectors (nu=0.5)"
   ]
  },
  {
   "cell_type": "code",
   "execution_count": null,
   "metadata": {},
   "outputs": [],
   "source": [
    "from sklearn.svm import NuSVC"
   ]
  },
  {
   "cell_type": "code",
   "execution_count": null,
   "metadata": {},
   "outputs": [],
   "source": [
    "num_svc_classifier=NuSVC(nu=.1)"
   ]
  },
  {
   "cell_type": "code",
   "execution_count": null,
   "metadata": {},
   "outputs": [],
   "source": [
    "num_svc_classifier.fit(x_traincv, y_train)\n",
    "# test data use \"transform()\"\n",
    "x_testcv = cv.transform(x_test)\n",
    "#predictions\n",
    "pred = num_svc_classifier.predict(x_testcv)\n",
    "#actual\n",
    "actual=np.array(y_test)"
   ]
  },
  {
   "cell_type": "code",
   "execution_count": null,
   "metadata": {},
   "outputs": [],
   "source": [
    "count=0\n",
    "for i in range (len(pred)):\n",
    "    if pred[i]==actual[i]:\n",
    "        count=count+1\n",
    "print(\"We have\",count,\"correct predictions out of\",len(pred),\".\")\n",
    "print(\"Total\",(count/len(pred))*100,\"percent accuracy.\")"
   ]
  },
  {
   "cell_type": "markdown",
   "metadata": {},
   "source": [
    "### Conclusion: According to the performance measures, the \"Multinomial Naive Bayes Classifier with Count Vectorizer\" performed best, at 89 percent accuracy. Almost all classifiers perform above 80 percent with our dataset, but probably because we have a small data set and, within that data set, a small percentage of 'reclamos.' My suspicion is that the classifiers are just guessing 'consulta' everytime. Even a dumb classifier that guessed 'consulta' everytime would be accurate 88 percent of the time. "
   ]
  },
  {
   "cell_type": "code",
   "execution_count": null,
   "metadata": {},
   "outputs": [],
   "source": []
  }
 ],
 "metadata": {
  "kernelspec": {
   "display_name": "Python [conda env:anaconda3]",
   "language": "python",
   "name": "conda-env-anaconda3-py"
  },
  "language_info": {
   "codemirror_mode": {
    "name": "ipython",
    "version": 3
   },
   "file_extension": ".py",
   "mimetype": "text/x-python",
   "name": "python",
   "nbconvert_exporter": "python",
   "pygments_lexer": "ipython3",
   "version": "3.7.1"
  }
 },
 "nbformat": 4,
 "nbformat_minor": 2
}
